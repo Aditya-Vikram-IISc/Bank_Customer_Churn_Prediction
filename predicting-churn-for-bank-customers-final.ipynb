{
 "cells": [
  {
   "cell_type": "code",
   "execution_count": 1,
   "id": "d9e97c2a",
   "metadata": {
    "_cell_guid": "b1076dfc-b9ad-4769-8c92-a6c4dae69d19",
    "_uuid": "8f2839f25d086af736a60e9eeb907d3b93b6e0e5",
    "execution": {
     "iopub.execute_input": "2021-12-09T15:23:58.903622Z",
     "iopub.status.busy": "2021-12-09T15:23:58.901878Z",
     "iopub.status.idle": "2021-12-09T15:23:59.964995Z",
     "shell.execute_reply": "2021-12-09T15:23:59.964251Z",
     "shell.execute_reply.started": "2021-12-09T15:19:02.004653Z"
    },
    "papermill": {
     "duration": 1.112602,
     "end_time": "2021-12-09T15:23:59.965174",
     "exception": false,
     "start_time": "2021-12-09T15:23:58.852572",
     "status": "completed"
    },
    "tags": []
   },
   "outputs": [],
   "source": [
    "# importing libraries\n",
    "import pandas as pd\n",
    "import seaborn as sns\n",
    "import numpy as np\n",
    "import matplotlib.pyplot as plt\n",
    "%matplotlib inline"
   ]
  },
  {
   "cell_type": "markdown",
   "id": "0ac08e16",
   "metadata": {
    "papermill": {
     "duration": 0.043927,
     "end_time": "2021-12-09T15:24:00.054679",
     "exception": false,
     "start_time": "2021-12-09T15:24:00.010752",
     "status": "completed"
    },
    "tags": []
   },
   "source": [
    "## 1. Balanced Dataset"
   ]
  },
  {
   "cell_type": "markdown",
   "id": "ba73315d",
   "metadata": {
    "papermill": {
     "duration": 0.042495,
     "end_time": "2021-12-09T15:24:00.141145",
     "exception": false,
     "start_time": "2021-12-09T15:24:00.098650",
     "status": "completed"
    },
    "tags": []
   },
   "source": [
    "### 1. Loading the data"
   ]
  },
  {
   "cell_type": "code",
   "execution_count": 2,
   "id": "4da27562",
   "metadata": {
    "execution": {
     "iopub.execute_input": "2021-12-09T15:24:00.230761Z",
     "iopub.status.busy": "2021-12-09T15:24:00.230044Z",
     "iopub.status.idle": "2021-12-09T15:24:00.296011Z",
     "shell.execute_reply": "2021-12-09T15:24:00.296532Z",
     "shell.execute_reply.started": "2021-12-09T15:19:06.949015Z"
    },
    "papermill": {
     "duration": 0.113528,
     "end_time": "2021-12-09T15:24:00.296721",
     "exception": false,
     "start_time": "2021-12-09T15:24:00.183193",
     "status": "completed"
    },
    "tags": []
   },
   "outputs": [
    {
     "data": {
      "text/html": [
       "<div>\n",
       "<style scoped>\n",
       "    .dataframe tbody tr th:only-of-type {\n",
       "        vertical-align: middle;\n",
       "    }\n",
       "\n",
       "    .dataframe tbody tr th {\n",
       "        vertical-align: top;\n",
       "    }\n",
       "\n",
       "    .dataframe thead th {\n",
       "        text-align: right;\n",
       "    }\n",
       "</style>\n",
       "<table border=\"1\" class=\"dataframe\">\n",
       "  <thead>\n",
       "    <tr style=\"text-align: right;\">\n",
       "      <th></th>\n",
       "      <th>RowNumber</th>\n",
       "      <th>CustomerId</th>\n",
       "      <th>Surname</th>\n",
       "      <th>CreditScore</th>\n",
       "      <th>Geography</th>\n",
       "      <th>Gender</th>\n",
       "      <th>Age</th>\n",
       "      <th>Tenure</th>\n",
       "      <th>Balance</th>\n",
       "      <th>NumOfProducts</th>\n",
       "      <th>HasCrCard</th>\n",
       "      <th>IsActiveMember</th>\n",
       "      <th>EstimatedSalary</th>\n",
       "      <th>Exited</th>\n",
       "    </tr>\n",
       "  </thead>\n",
       "  <tbody>\n",
       "    <tr>\n",
       "      <th>0</th>\n",
       "      <td>1</td>\n",
       "      <td>15634602</td>\n",
       "      <td>Hargrave</td>\n",
       "      <td>619</td>\n",
       "      <td>France</td>\n",
       "      <td>Female</td>\n",
       "      <td>42</td>\n",
       "      <td>2</td>\n",
       "      <td>0.00</td>\n",
       "      <td>1</td>\n",
       "      <td>1</td>\n",
       "      <td>1</td>\n",
       "      <td>101348.88</td>\n",
       "      <td>1</td>\n",
       "    </tr>\n",
       "    <tr>\n",
       "      <th>1</th>\n",
       "      <td>2</td>\n",
       "      <td>15647311</td>\n",
       "      <td>Hill</td>\n",
       "      <td>608</td>\n",
       "      <td>Spain</td>\n",
       "      <td>Female</td>\n",
       "      <td>41</td>\n",
       "      <td>1</td>\n",
       "      <td>83807.86</td>\n",
       "      <td>1</td>\n",
       "      <td>0</td>\n",
       "      <td>1</td>\n",
       "      <td>112542.58</td>\n",
       "      <td>0</td>\n",
       "    </tr>\n",
       "    <tr>\n",
       "      <th>2</th>\n",
       "      <td>3</td>\n",
       "      <td>15619304</td>\n",
       "      <td>Onio</td>\n",
       "      <td>502</td>\n",
       "      <td>France</td>\n",
       "      <td>Female</td>\n",
       "      <td>42</td>\n",
       "      <td>8</td>\n",
       "      <td>159660.80</td>\n",
       "      <td>3</td>\n",
       "      <td>1</td>\n",
       "      <td>0</td>\n",
       "      <td>113931.57</td>\n",
       "      <td>1</td>\n",
       "    </tr>\n",
       "    <tr>\n",
       "      <th>3</th>\n",
       "      <td>4</td>\n",
       "      <td>15701354</td>\n",
       "      <td>Boni</td>\n",
       "      <td>699</td>\n",
       "      <td>France</td>\n",
       "      <td>Female</td>\n",
       "      <td>39</td>\n",
       "      <td>1</td>\n",
       "      <td>0.00</td>\n",
       "      <td>2</td>\n",
       "      <td>0</td>\n",
       "      <td>0</td>\n",
       "      <td>93826.63</td>\n",
       "      <td>0</td>\n",
       "    </tr>\n",
       "    <tr>\n",
       "      <th>4</th>\n",
       "      <td>5</td>\n",
       "      <td>15737888</td>\n",
       "      <td>Mitchell</td>\n",
       "      <td>850</td>\n",
       "      <td>Spain</td>\n",
       "      <td>Female</td>\n",
       "      <td>43</td>\n",
       "      <td>2</td>\n",
       "      <td>125510.82</td>\n",
       "      <td>1</td>\n",
       "      <td>1</td>\n",
       "      <td>1</td>\n",
       "      <td>79084.10</td>\n",
       "      <td>0</td>\n",
       "    </tr>\n",
       "  </tbody>\n",
       "</table>\n",
       "</div>"
      ],
      "text/plain": [
       "   RowNumber  CustomerId   Surname  CreditScore Geography  Gender  Age  \\\n",
       "0          1    15634602  Hargrave          619    France  Female   42   \n",
       "1          2    15647311      Hill          608     Spain  Female   41   \n",
       "2          3    15619304      Onio          502    France  Female   42   \n",
       "3          4    15701354      Boni          699    France  Female   39   \n",
       "4          5    15737888  Mitchell          850     Spain  Female   43   \n",
       "\n",
       "   Tenure    Balance  NumOfProducts  HasCrCard  IsActiveMember  \\\n",
       "0       2       0.00              1          1               1   \n",
       "1       1   83807.86              1          0               1   \n",
       "2       8  159660.80              3          1               0   \n",
       "3       1       0.00              2          0               0   \n",
       "4       2  125510.82              1          1               1   \n",
       "\n",
       "   EstimatedSalary  Exited  \n",
       "0        101348.88       1  \n",
       "1        112542.58       0  \n",
       "2        113931.57       1  \n",
       "3         93826.63       0  \n",
       "4         79084.10       0  "
      ]
     },
     "execution_count": 2,
     "metadata": {},
     "output_type": "execute_result"
    }
   ],
   "source": [
    "#read the data\n",
    "path = \"../input/predicting-churn-for-bank-customers/Churn_Modelling.csv\"\n",
    "df = pd.read_csv(path)\n",
    "df.head()"
   ]
  },
  {
   "cell_type": "code",
   "execution_count": 3,
   "id": "20c48cf5",
   "metadata": {
    "execution": {
     "iopub.execute_input": "2021-12-09T15:24:00.386781Z",
     "iopub.status.busy": "2021-12-09T15:24:00.386136Z",
     "iopub.status.idle": "2021-12-09T15:24:00.410079Z",
     "shell.execute_reply": "2021-12-09T15:24:00.410901Z",
     "shell.execute_reply.started": "2021-12-09T15:19:07.083660Z"
    },
    "papermill": {
     "duration": 0.070743,
     "end_time": "2021-12-09T15:24:00.411215",
     "exception": false,
     "start_time": "2021-12-09T15:24:00.340472",
     "status": "completed"
    },
    "tags": []
   },
   "outputs": [
    {
     "name": "stdout",
     "output_type": "stream",
     "text": [
      "<class 'pandas.core.frame.DataFrame'>\n",
      "RangeIndex: 10000 entries, 0 to 9999\n",
      "Data columns (total 14 columns):\n",
      " #   Column           Non-Null Count  Dtype  \n",
      "---  ------           --------------  -----  \n",
      " 0   RowNumber        10000 non-null  int64  \n",
      " 1   CustomerId       10000 non-null  int64  \n",
      " 2   Surname          10000 non-null  object \n",
      " 3   CreditScore      10000 non-null  int64  \n",
      " 4   Geography        10000 non-null  object \n",
      " 5   Gender           10000 non-null  object \n",
      " 6   Age              10000 non-null  int64  \n",
      " 7   Tenure           10000 non-null  int64  \n",
      " 8   Balance          10000 non-null  float64\n",
      " 9   NumOfProducts    10000 non-null  int64  \n",
      " 10  HasCrCard        10000 non-null  int64  \n",
      " 11  IsActiveMember   10000 non-null  int64  \n",
      " 12  EstimatedSalary  10000 non-null  float64\n",
      " 13  Exited           10000 non-null  int64  \n",
      "dtypes: float64(2), int64(9), object(3)\n",
      "memory usage: 1.1+ MB\n"
     ]
    }
   ],
   "source": [
    "df.info()"
   ]
  },
  {
   "cell_type": "code",
   "execution_count": 4,
   "id": "0b318111",
   "metadata": {
    "execution": {
     "iopub.execute_input": "2021-12-09T15:24:00.503167Z",
     "iopub.status.busy": "2021-12-09T15:24:00.502431Z",
     "iopub.status.idle": "2021-12-09T15:24:00.510882Z",
     "shell.execute_reply": "2021-12-09T15:24:00.511394Z",
     "shell.execute_reply.started": "2021-12-09T15:19:07.183845Z"
    },
    "papermill": {
     "duration": 0.05613,
     "end_time": "2021-12-09T15:24:00.511558",
     "exception": false,
     "start_time": "2021-12-09T15:24:00.455428",
     "status": "completed"
    },
    "tags": []
   },
   "outputs": [
    {
     "data": {
      "text/plain": [
       "RowNumber          0\n",
       "CustomerId         0\n",
       "Surname            0\n",
       "CreditScore        0\n",
       "Geography          0\n",
       "Gender             0\n",
       "Age                0\n",
       "Tenure             0\n",
       "Balance            0\n",
       "NumOfProducts      0\n",
       "HasCrCard          0\n",
       "IsActiveMember     0\n",
       "EstimatedSalary    0\n",
       "Exited             0\n",
       "dtype: int64"
      ]
     },
     "execution_count": 4,
     "metadata": {},
     "output_type": "execute_result"
    }
   ],
   "source": [
    "df.isnull().sum()"
   ]
  },
  {
   "cell_type": "code",
   "execution_count": 5,
   "id": "f5b85e1d",
   "metadata": {
    "execution": {
     "iopub.execute_input": "2021-12-09T15:24:00.601051Z",
     "iopub.status.busy": "2021-12-09T15:24:00.600471Z",
     "iopub.status.idle": "2021-12-09T15:24:00.615841Z",
     "shell.execute_reply": "2021-12-09T15:24:00.616405Z",
     "shell.execute_reply.started": "2021-12-09T15:19:07.286177Z"
    },
    "papermill": {
     "duration": 0.061703,
     "end_time": "2021-12-09T15:24:00.616570",
     "exception": false,
     "start_time": "2021-12-09T15:24:00.554867",
     "status": "completed"
    },
    "tags": []
   },
   "outputs": [
    {
     "data": {
      "text/html": [
       "<div>\n",
       "<style scoped>\n",
       "    .dataframe tbody tr th:only-of-type {\n",
       "        vertical-align: middle;\n",
       "    }\n",
       "\n",
       "    .dataframe tbody tr th {\n",
       "        vertical-align: top;\n",
       "    }\n",
       "\n",
       "    .dataframe thead th {\n",
       "        text-align: right;\n",
       "    }\n",
       "</style>\n",
       "<table border=\"1\" class=\"dataframe\">\n",
       "  <thead>\n",
       "    <tr style=\"text-align: right;\">\n",
       "      <th></th>\n",
       "      <th>CreditScore</th>\n",
       "      <th>Geography</th>\n",
       "      <th>Gender</th>\n",
       "      <th>Age</th>\n",
       "      <th>Tenure</th>\n",
       "      <th>Balance</th>\n",
       "      <th>NumOfProducts</th>\n",
       "      <th>HasCrCard</th>\n",
       "      <th>IsActiveMember</th>\n",
       "      <th>EstimatedSalary</th>\n",
       "      <th>Exited</th>\n",
       "    </tr>\n",
       "  </thead>\n",
       "  <tbody>\n",
       "    <tr>\n",
       "      <th>0</th>\n",
       "      <td>619</td>\n",
       "      <td>France</td>\n",
       "      <td>Female</td>\n",
       "      <td>42</td>\n",
       "      <td>2</td>\n",
       "      <td>0.00</td>\n",
       "      <td>1</td>\n",
       "      <td>1</td>\n",
       "      <td>1</td>\n",
       "      <td>101348.88</td>\n",
       "      <td>1</td>\n",
       "    </tr>\n",
       "    <tr>\n",
       "      <th>1</th>\n",
       "      <td>608</td>\n",
       "      <td>Spain</td>\n",
       "      <td>Female</td>\n",
       "      <td>41</td>\n",
       "      <td>1</td>\n",
       "      <td>83807.86</td>\n",
       "      <td>1</td>\n",
       "      <td>0</td>\n",
       "      <td>1</td>\n",
       "      <td>112542.58</td>\n",
       "      <td>0</td>\n",
       "    </tr>\n",
       "    <tr>\n",
       "      <th>2</th>\n",
       "      <td>502</td>\n",
       "      <td>France</td>\n",
       "      <td>Female</td>\n",
       "      <td>42</td>\n",
       "      <td>8</td>\n",
       "      <td>159660.80</td>\n",
       "      <td>3</td>\n",
       "      <td>1</td>\n",
       "      <td>0</td>\n",
       "      <td>113931.57</td>\n",
       "      <td>1</td>\n",
       "    </tr>\n",
       "    <tr>\n",
       "      <th>3</th>\n",
       "      <td>699</td>\n",
       "      <td>France</td>\n",
       "      <td>Female</td>\n",
       "      <td>39</td>\n",
       "      <td>1</td>\n",
       "      <td>0.00</td>\n",
       "      <td>2</td>\n",
       "      <td>0</td>\n",
       "      <td>0</td>\n",
       "      <td>93826.63</td>\n",
       "      <td>0</td>\n",
       "    </tr>\n",
       "    <tr>\n",
       "      <th>4</th>\n",
       "      <td>850</td>\n",
       "      <td>Spain</td>\n",
       "      <td>Female</td>\n",
       "      <td>43</td>\n",
       "      <td>2</td>\n",
       "      <td>125510.82</td>\n",
       "      <td>1</td>\n",
       "      <td>1</td>\n",
       "      <td>1</td>\n",
       "      <td>79084.10</td>\n",
       "      <td>0</td>\n",
       "    </tr>\n",
       "  </tbody>\n",
       "</table>\n",
       "</div>"
      ],
      "text/plain": [
       "   CreditScore Geography  Gender  Age  Tenure    Balance  NumOfProducts  \\\n",
       "0          619    France  Female   42       2       0.00              1   \n",
       "1          608     Spain  Female   41       1   83807.86              1   \n",
       "2          502    France  Female   42       8  159660.80              3   \n",
       "3          699    France  Female   39       1       0.00              2   \n",
       "4          850     Spain  Female   43       2  125510.82              1   \n",
       "\n",
       "   HasCrCard  IsActiveMember  EstimatedSalary  Exited  \n",
       "0          1               1        101348.88       1  \n",
       "1          0               1        112542.58       0  \n",
       "2          1               0        113931.57       1  \n",
       "3          0               0         93826.63       0  \n",
       "4          1               1         79084.10       0  "
      ]
     },
     "execution_count": 5,
     "metadata": {},
     "output_type": "execute_result"
    }
   ],
   "source": [
    "#drop columsn not needed for prediction\n",
    "df = df.drop(['RowNumber', 'CustomerId', 'Surname'], axis=1)\n",
    "df.head()"
   ]
  },
  {
   "cell_type": "markdown",
   "id": "6c0e202a",
   "metadata": {
    "execution": {
     "iopub.execute_input": "2021-12-09T10:32:59.733102Z",
     "iopub.status.busy": "2021-12-09T10:32:59.732248Z",
     "iopub.status.idle": "2021-12-09T10:32:59.737036Z",
     "shell.execute_reply": "2021-12-09T10:32:59.736232Z",
     "shell.execute_reply.started": "2021-12-09T10:32:59.733038Z"
    },
    "papermill": {
     "duration": 0.04413,
     "end_time": "2021-12-09T15:24:00.704565",
     "exception": false,
     "start_time": "2021-12-09T15:24:00.660435",
     "status": "completed"
    },
    "tags": []
   },
   "source": [
    "### 2.EDA"
   ]
  },
  {
   "cell_type": "code",
   "execution_count": 6,
   "id": "73e85c01",
   "metadata": {
    "execution": {
     "iopub.execute_input": "2021-12-09T15:24:00.796255Z",
     "iopub.status.busy": "2021-12-09T15:24:00.795644Z",
     "iopub.status.idle": "2021-12-09T15:24:00.959726Z",
     "shell.execute_reply": "2021-12-09T15:24:00.959211Z",
     "shell.execute_reply.started": "2021-12-09T15:19:07.544397Z"
    },
    "papermill": {
     "duration": 0.210862,
     "end_time": "2021-12-09T15:24:00.959876",
     "exception": false,
     "start_time": "2021-12-09T15:24:00.749014",
     "status": "completed"
    },
    "tags": []
   },
   "outputs": [
    {
     "data": {
      "image/png": "[encoded data removed]",
      "text/plain": [
       "<Figure size 648x504 with 1 Axes>"
      ]
     },
     "metadata": {},
     "output_type": "display_data"
    }
   ],
   "source": [
    "#plotting a pie chart\n",
    "retained, exited = df[\"Exited\"].value_counts()[0], df[\"Exited\"].value_counts()[1]\n",
    "explode = (0, 0.1)\n",
    "\n",
    "fig1, ax1 = plt.subplots(figsize=(9, 7))\n",
    "ax1.pie([retained, exited], explode=explode, labels=[\"retained\", \"exited\"], autopct='%1.1f%%',\n",
    "        shadow=True, startangle=90)\n",
    "ax1.axis('equal')\n",
    "plt.title(\"Proportion of customer churned and retained\", size = 20)\n",
    "plt.show()"
   ]
  },
  {
   "cell_type": "markdown",
   "id": "2a364836",
   "metadata": {
    "papermill": {
     "duration": 0.044871,
     "end_time": "2021-12-09T15:24:01.049750",
     "exception": false,
     "start_time": "2021-12-09T15:24:01.004879",
     "status": "completed"
    },
    "tags": []
   },
   "source": [
    "From above pie chart,we can see that around 20% of customers had churned i.e exited and 80% retained.This shows that our dataset is a little imbalanced so we have to predict customer churn with a good accuracy as this 20% customers are of more interest to the bank"
   ]
  },
  {
   "cell_type": "markdown",
   "id": "e526fbbf",
   "metadata": {
    "papermill": {
     "duration": 0.044458,
     "end_time": "2021-12-09T15:24:01.139840",
     "exception": false,
     "start_time": "2021-12-09T15:24:01.095382",
     "status": "completed"
    },
    "tags": []
   },
   "source": [
    "#### Feature EDA plots"
   ]
  },
  {
   "cell_type": "code",
   "execution_count": 7,
   "id": "4a417cd1",
   "metadata": {
    "execution": {
     "iopub.execute_input": "2021-12-09T15:24:01.233535Z",
     "iopub.status.busy": "2021-12-09T15:24:01.232827Z",
     "iopub.status.idle": "2021-12-09T15:24:01.469686Z",
     "shell.execute_reply": "2021-12-09T15:24:01.470174Z",
     "shell.execute_reply.started": "2021-12-09T15:19:08.105914Z"
    },
    "papermill": {
     "duration": 0.285288,
     "end_time": "2021-12-09T15:24:01.470363",
     "exception": false,
     "start_time": "2021-12-09T15:24:01.185075",
     "status": "completed"
    },
    "tags": []
   },
   "outputs": [
    {
     "data": {
      "text/plain": [
       "Text(0.5, 1.0, 'Countplot-Geography Column')"
      ]
     },
     "execution_count": 7,
     "metadata": {},
     "output_type": "execute_result"
    },
    {
     "data": {
      "image/png": "[encoded data removed]",
      "text/plain": [
       "<Figure size 432x288 with 1 Axes>"
      ]
     },
     "metadata": {
      "needs_background": "light"
     },
     "output_type": "display_data"
    }
   ],
   "source": [
    "#geography\n",
    "sns.countplot(x='Geography', hue = 'Exited', data = df)\n",
    "plt.title(\"Countplot-Geography Column\")"
   ]
  },
  {
   "cell_type": "code",
   "execution_count": 8,
   "id": "a73bdbbd",
   "metadata": {
    "execution": {
     "iopub.execute_input": "2021-12-09T15:24:01.574502Z",
     "iopub.status.busy": "2021-12-09T15:24:01.573795Z",
     "iopub.status.idle": "2021-12-09T15:24:01.772400Z",
     "shell.execute_reply": "2021-12-09T15:24:01.772915Z",
     "shell.execute_reply.started": "2021-12-09T15:19:08.543844Z"
    },
    "papermill": {
     "duration": 0.255003,
     "end_time": "2021-12-09T15:24:01.773081",
     "exception": false,
     "start_time": "2021-12-09T15:24:01.518078",
     "status": "completed"
    },
    "tags": []
   },
   "outputs": [
    {
     "data": {
      "text/plain": [
       "Text(0.5, 1.0, 'Countplot-Gender Column')"
      ]
     },
     "execution_count": 8,
     "metadata": {},
     "output_type": "execute_result"
    },
    {
     "data": {
      "image/png": "[encoded data removed]",
      "text/plain": [
       "<Figure size 432x288 with 1 Axes>"
      ]
     },
     "metadata": {
      "needs_background": "light"
     },
     "output_type": "display_data"
    }
   ],
   "source": [
    "#gender\n",
    "sns.countplot(x='Gender', hue = 'Exited', data = df)\n",
    "plt.title(\"Countplot-Gender Column\")"
   ]
  },
  {
   "cell_type": "code",
   "execution_count": 9,
   "id": "5d21cca0",
   "metadata": {
    "execution": {
     "iopub.execute_input": "2021-12-09T15:24:01.870870Z",
     "iopub.status.busy": "2021-12-09T15:24:01.869935Z",
     "iopub.status.idle": "2021-12-09T15:24:02.073442Z",
     "shell.execute_reply": "2021-12-09T15:24:02.073898Z",
     "shell.execute_reply.started": "2021-12-09T15:19:08.900185Z"
    },
    "papermill": {
     "duration": 0.254,
     "end_time": "2021-12-09T15:24:02.074062",
     "exception": false,
     "start_time": "2021-12-09T15:24:01.820062",
     "status": "completed"
    },
    "tags": []
   },
   "outputs": [
    {
     "data": {
      "text/plain": [
       "Text(0.5, 1.0, 'Countplot-HasCrCard Column')"
      ]
     },
     "execution_count": 9,
     "metadata": {},
     "output_type": "execute_result"
    },
    {
     "data": {
      "image/png": "[encoded data removed]",
      "text/plain": [
       "<Figure size 432x288 with 1 Axes>"
      ]
     },
     "metadata": {
      "needs_background": "light"
     },
     "output_type": "display_data"
    }
   ],
   "source": [
    "#HasCrCard\n",
    "sns.countplot(x='HasCrCard', hue = 'Exited', data = df)\n",
    "plt.title(\"Countplot-HasCrCard Column\")"
   ]
  },
  {
   "cell_type": "code",
   "execution_count": 10,
   "id": "2df72bcb",
   "metadata": {
    "execution": {
     "iopub.execute_input": "2021-12-09T15:24:02.175597Z",
     "iopub.status.busy": "2021-12-09T15:24:02.174641Z",
     "iopub.status.idle": "2021-12-09T15:24:02.371370Z",
     "shell.execute_reply": "2021-12-09T15:24:02.370864Z",
     "shell.execute_reply.started": "2021-12-09T15:19:09.115168Z"
    },
    "papermill": {
     "duration": 0.249493,
     "end_time": "2021-12-09T15:24:02.371518",
     "exception": false,
     "start_time": "2021-12-09T15:24:02.122025",
     "status": "completed"
    },
    "tags": []
   },
   "outputs": [
    {
     "data": {
      "text/plain": [
       "Text(0.5, 1.0, 'Countplot-IsActiveMember Column')"
      ]
     },
     "execution_count": 10,
     "metadata": {},
     "output_type": "execute_result"
    },
    {
     "data": {
      "image/png": "[encoded data removed]",
      "text/plain": [
       "<Figure size 432x288 with 1 Axes>"
      ]
     },
     "metadata": {
      "needs_background": "light"
     },
     "output_type": "display_data"
    }
   ],
   "source": [
    "#IsActiveMember\n",
    "sns.countplot(x='IsActiveMember', hue = 'Exited', data = df)\n",
    "plt.title(\"Countplot-IsActiveMember Column\")"
   ]
  },
  {
   "cell_type": "markdown",
   "id": "199aa77c",
   "metadata": {
    "papermill": {
     "duration": 0.047707,
     "end_time": "2021-12-09T15:24:02.466871",
     "exception": false,
     "start_time": "2021-12-09T15:24:02.419164",
     "status": "completed"
    },
    "tags": []
   },
   "source": [
    "From the above countplots we can infer that-  \n",
    "1.Total umber of customers who retained is highest from France and those who exited are highest from Germany,which means the bank needs to focus more on customers from Germany followed by France so that they don't churn.  \n",
    "2. The proportion of female customers churning is greater than that of male customers.  \n",
    "3. Suprisingly,coustomers who had credit card churned more which can be a coincidence.  \n",
    "4. As usual,the inactive members churned more.  "
   ]
  },
  {
   "cell_type": "code",
   "execution_count": 11,
   "id": "c9a0006b",
   "metadata": {
    "execution": {
     "iopub.execute_input": "2021-12-09T15:24:02.616090Z",
     "iopub.status.busy": "2021-12-09T15:24:02.598279Z",
     "iopub.status.idle": "2021-12-09T15:24:03.672693Z",
     "shell.execute_reply": "2021-12-09T15:24:03.672177Z",
     "shell.execute_reply.started": "2021-12-09T15:19:09.325541Z"
    },
    "papermill": {
     "duration": 1.156416,
     "end_time": "2021-12-09T15:24:03.672839",
     "exception": false,
     "start_time": "2021-12-09T15:24:02.516423",
     "status": "completed"
    },
    "tags": []
   },
   "outputs": [
    {
     "data": {
      "text/plain": [
       "<AxesSubplot:xlabel='Exited', ylabel='EstimatedSalary'>"
      ]
     },
     "execution_count": 11,
     "metadata": {},
     "output_type": "execute_result"
    },
    {
     "data": {
      "image/png": "[encoded data removed]",
      "text/plain": [
       "<Figure size 1440x864 with 6 Axes>"
      ]
     },
     "metadata": {
      "needs_background": "light"
     },
     "output_type": "display_data"
    }
   ],
   "source": [
    "# Relations based on the continuous data attributes\n",
    "fig, axes = plt.subplots(3, 2, figsize=(20, 12))\n",
    "sns.boxplot(y='CreditScore',x = 'Exited', hue = 'Exited',data = df, ax=axes[0][0]).set_title('Boxplot- Credit Score Column')\n",
    "sns.boxplot(y='Age',x = 'Exited', hue = 'Exited',data = df , ax=axes[0][1]).set_title('Boxplot- Age Column')\n",
    "sns.boxplot(y='Tenure',x = 'Exited', hue = 'Exited',data = df, ax=axes[1][0])#.set_title('Boxplot- Tenure Column')\n",
    "sns.boxplot(y='Balance',x = 'Exited', hue = 'Exited',data = df, ax=axes[1][1])#.set_title('Boxplot- Balance Column')\n",
    "sns.boxplot(y='NumOfProducts',x = 'Exited', hue = 'Exited',data = df, ax=axes[2][0])#.set_title('Boxplot- NumProducts Column')\n",
    "sns.boxplot(y='EstimatedSalary',x = 'Exited', hue = 'Exited',data = df, ax=axes[2][1])#.set_title('Boxplot- EstimatedSalary Column')"
   ]
  },
  {
   "cell_type": "markdown",
   "id": "d4418171",
   "metadata": {
    "papermill": {
     "duration": 0.049764,
     "end_time": "2021-12-09T15:24:03.773818",
     "exception": false,
     "start_time": "2021-12-09T15:24:03.724054",
     "status": "completed"
    },
    "tags": []
   },
   "source": [
    "From the above boxplots we can infer that-  \n",
    "-- There is no significant difference in Credit score,estimated salary and number of products they possess between customers who churned and who don't.  \n",
    "-- The older customers are churning more than the young ones which indicates that the bank need to focus on older customers more.  \n",
    "-- Customers with tenure period with bank either too less or too more tends to churn more.   \n",
    "-- Customers who churned generally have more bank balance which is a bad indications as it will lead to capital deficiency in the bank.  "
   ]
  },
  {
   "cell_type": "markdown",
   "id": "74b7973b",
   "metadata": {
    "papermill": {
     "duration": 0.04968,
     "end_time": "2021-12-09T15:24:03.873570",
     "exception": false,
     "start_time": "2021-12-09T15:24:03.823890",
     "status": "completed"
    },
    "tags": []
   },
   "source": [
    "### 3. Feature Engineering"
   ]
  },
  {
   "cell_type": "code",
   "execution_count": 12,
   "id": "ae61dc98",
   "metadata": {
    "execution": {
     "iopub.execute_input": "2021-12-09T15:24:03.976885Z",
     "iopub.status.busy": "2021-12-09T15:24:03.976280Z",
     "iopub.status.idle": "2021-12-09T15:24:04.327848Z",
     "shell.execute_reply": "2021-12-09T15:24:04.327357Z",
     "shell.execute_reply.started": "2021-12-09T15:19:11.321030Z"
    },
    "papermill": {
     "duration": 0.404832,
     "end_time": "2021-12-09T15:24:04.328010",
     "exception": false,
     "start_time": "2021-12-09T15:24:03.923178",
     "status": "completed"
    },
    "tags": []
   },
   "outputs": [
    {
     "data": {
      "image/png": "[encoded data removed]",
      "text/plain": [
       "<Figure size 432x288 with 1 Axes>"
      ]
     },
     "metadata": {
      "needs_background": "light"
     },
     "output_type": "display_data"
    }
   ],
   "source": [
    "# 1st Attribute - Balance Salary Ratio\n",
    "df[\"BalanceSalaryRatio\"] = df[\"Balance\"]/df[\"EstimatedSalary\"]\n",
    "sns.boxplot(y = \"BalanceSalaryRatio\", x = \"Exited\", hue = \"Exited\", data=df)\n",
    "plt.ylim(-1, 5)\n",
    "plt.show()"
   ]
  },
  {
   "cell_type": "code",
   "execution_count": 13,
   "id": "05cf8023",
   "metadata": {
    "execution": {
     "iopub.execute_input": "2021-12-09T15:24:04.436605Z",
     "iopub.status.busy": "2021-12-09T15:24:04.431919Z",
     "iopub.status.idle": "2021-12-09T15:24:04.649356Z",
     "shell.execute_reply": "2021-12-09T15:24:04.649908Z",
     "shell.execute_reply.started": "2021-12-09T15:19:11.700112Z"
    },
    "papermill": {
     "duration": 0.272066,
     "end_time": "2021-12-09T15:24:04.650160",
     "exception": false,
     "start_time": "2021-12-09T15:24:04.378094",
     "status": "completed"
    },
    "tags": []
   },
   "outputs": [
    {
     "data": {
      "image/png": "[encoded data removed]",
      "text/plain": [
       "<Figure size 432x288 with 1 Axes>"
      ]
     },
     "metadata": {
      "needs_background": "light"
     },
     "output_type": "display_data"
    }
   ],
   "source": [
    "#  2nd Attribute-Tenure By Age\n",
    "df['TenureByAge'] = df.Tenure/(df.Age)\n",
    "sns.boxplot(y='TenureByAge',x = 'Exited', hue = 'Exited',data = df)\n",
    "plt.ylim(-0.2, 0.7)\n",
    "plt.show()"
   ]
  },
  {
   "cell_type": "code",
   "execution_count": 14,
   "id": "e08331bd",
   "metadata": {
    "execution": {
     "iopub.execute_input": "2021-12-09T15:24:04.756207Z",
     "iopub.status.busy": "2021-12-09T15:24:04.755580Z",
     "iopub.status.idle": "2021-12-09T15:24:04.957754Z",
     "shell.execute_reply": "2021-12-09T15:24:04.956099Z",
     "shell.execute_reply.started": "2021-12-09T15:19:11.948968Z"
    },
    "papermill": {
     "duration": 0.25619,
     "end_time": "2021-12-09T15:24:04.957960",
     "exception": false,
     "start_time": "2021-12-09T15:24:04.701770",
     "status": "completed"
    },
    "tags": []
   },
   "outputs": [
    {
     "data": {
      "image/png": "[encoded data removed]",
      "text/plain": [
       "<Figure size 432x288 with 1 Axes>"
      ]
     },
     "metadata": {
      "needs_background": "light"
     },
     "output_type": "display_data"
    }
   ],
   "source": [
    "# 3rd Attribute- Credit Score Given Age\n",
    "df['CreditScoreGivenAge'] = df.CreditScore/(df.Age)\n",
    "sns.boxplot(y='CreditScoreGivenAge',x = 'Exited', hue = 'Exited',data = df)\n",
    "plt.show()"
   ]
  },
  {
   "cell_type": "code",
   "execution_count": 15,
   "id": "35bd7936",
   "metadata": {
    "execution": {
     "iopub.execute_input": "2021-12-09T15:24:05.099594Z",
     "iopub.status.busy": "2021-12-09T15:24:05.098898Z",
     "iopub.status.idle": "2021-12-09T15:24:05.101480Z",
     "shell.execute_reply": "2021-12-09T15:24:05.101946Z",
     "shell.execute_reply.started": "2021-12-09T15:19:12.339030Z"
    },
    "papermill": {
     "duration": 0.086236,
     "end_time": "2021-12-09T15:24:05.102108",
     "exception": false,
     "start_time": "2021-12-09T15:24:05.015872",
     "status": "completed"
    },
    "tags": []
   },
   "outputs": [
    {
     "data": {
      "text/plain": [
       "(10000, 14)"
      ]
     },
     "execution_count": 15,
     "metadata": {},
     "output_type": "execute_result"
    }
   ],
   "source": [
    "df.shape"
   ]
  },
  {
   "cell_type": "markdown",
   "id": "3afdd1e6",
   "metadata": {
    "papermill": {
     "duration": 0.051356,
     "end_time": "2021-12-09T15:24:05.205007",
     "exception": false,
     "start_time": "2021-12-09T15:24:05.153651",
     "status": "completed"
    },
    "tags": []
   },
   "source": [
    "### 4. Data Preparation for the Model fitting"
   ]
  },
  {
   "cell_type": "code",
   "execution_count": 16,
   "id": "3f6317d9",
   "metadata": {
    "execution": {
     "iopub.execute_input": "2021-12-09T15:24:05.311608Z",
     "iopub.status.busy": "2021-12-09T15:24:05.310984Z",
     "iopub.status.idle": "2021-12-09T15:24:05.315097Z",
     "shell.execute_reply": "2021-12-09T15:24:05.315600Z",
     "shell.execute_reply.started": "2021-12-09T15:19:12.902048Z"
    },
    "papermill": {
     "duration": 0.059159,
     "end_time": "2021-12-09T15:24:05.315768",
     "exception": false,
     "start_time": "2021-12-09T15:24:05.256609",
     "status": "completed"
    },
    "tags": []
   },
   "outputs": [],
   "source": [
    "# Arranging columns by data type for easier manipulation\n",
    "\n",
    "continuous_vars = ['CreditScore',  'Age', 'Tenure', 'Balance','NumOfProducts', 'EstimatedSalary', 'BalanceSalaryRatio',\n",
    "                   'TenureByAge','CreditScoreGivenAge']\n",
    "categorical_vars = ['HasCrCard', 'IsActiveMember','Geography', 'Gender']\n",
    "label = [\"Exited\"]"
   ]
  },
  {
   "cell_type": "markdown",
   "id": "8ad52b99",
   "metadata": {
    "papermill": {
     "duration": 0.051706,
     "end_time": "2021-12-09T15:24:05.420242",
     "exception": false,
     "start_time": "2021-12-09T15:24:05.368536",
     "status": "completed"
    },
    "tags": []
   },
   "source": [
    "#### Correlation Matrix for continuous attributes"
   ]
  },
  {
   "cell_type": "code",
   "execution_count": 17,
   "id": "79275538",
   "metadata": {
    "execution": {
     "iopub.execute_input": "2021-12-09T15:24:05.532980Z",
     "iopub.status.busy": "2021-12-09T15:24:05.531831Z",
     "iopub.status.idle": "2021-12-09T15:24:06.136825Z",
     "shell.execute_reply": "2021-12-09T15:24:06.136264Z",
     "shell.execute_reply.started": "2021-12-09T15:19:14.643976Z"
    },
    "papermill": {
     "duration": 0.664858,
     "end_time": "2021-12-09T15:24:06.136959",
     "exception": false,
     "start_time": "2021-12-09T15:24:05.472101",
     "status": "completed"
    },
    "tags": []
   },
   "outputs": [
    {
     "data": {
      "image/png": "[encoded data removed]",
      "text/plain": [
       "<Figure size 432x288 with 2 Axes>"
      ]
     },
     "metadata": {},
     "output_type": "display_data"
    }
   ],
   "source": [
    "sns.set()\n",
    "sns.set(font_scale = 1.25)\n",
    "sns.heatmap(df[continuous_vars].corr(), annot = True,fmt = \".1f\")\n",
    "plt.show()"
   ]
  },
  {
   "cell_type": "markdown",
   "id": "fa0bc3cd",
   "metadata": {
    "papermill": {
     "duration": 0.06582,
     "end_time": "2021-12-09T15:24:06.266894",
     "exception": false,
     "start_time": "2021-12-09T15:24:06.201074",
     "status": "completed"
    },
    "tags": []
   },
   "source": [
    "##### Almost all of the columns aren't related with other columns except the features we have generated."
   ]
  },
  {
   "cell_type": "markdown",
   "id": "020e498b",
   "metadata": {
    "papermill": {
     "duration": 0.061852,
     "end_time": "2021-12-09T15:24:06.388925",
     "exception": false,
     "start_time": "2021-12-09T15:24:06.327073",
     "status": "completed"
    },
    "tags": []
   },
   "source": [
    "### Dealing with categorical features"
   ]
  },
  {
   "cell_type": "code",
   "execution_count": 18,
   "id": "d451518f",
   "metadata": {
    "execution": {
     "iopub.execute_input": "2021-12-09T15:24:06.514052Z",
     "iopub.status.busy": "2021-12-09T15:24:06.513352Z",
     "iopub.status.idle": "2021-12-09T15:24:06.518086Z",
     "shell.execute_reply": "2021-12-09T15:24:06.519138Z",
     "shell.execute_reply.started": "2021-12-09T15:19:16.154276Z"
    },
    "papermill": {
     "duration": 0.073999,
     "end_time": "2021-12-09T15:24:06.519403",
     "exception": false,
     "start_time": "2021-12-09T15:24:06.445404",
     "status": "completed"
    },
    "tags": []
   },
   "outputs": [],
   "source": [
    "# Changing values of column HasCrCard and IsActiveMember from 0 to -1 so that they will influence negatively to the model instead of no effect.\n",
    "df.loc[df.HasCrCard == 0, 'HasCrCard'] = -1\n",
    "df.loc[df.IsActiveMember == 0, 'IsActiveMember'] = -1"
   ]
  },
  {
   "cell_type": "code",
   "execution_count": 19,
   "id": "48430347",
   "metadata": {
    "execution": {
     "iopub.execute_input": "2021-12-09T15:24:06.639472Z",
     "iopub.status.busy": "2021-12-09T15:24:06.638788Z",
     "iopub.status.idle": "2021-12-09T15:24:06.649452Z",
     "shell.execute_reply": "2021-12-09T15:24:06.650021Z",
     "shell.execute_reply.started": "2021-12-09T15:19:16.504528Z"
    },
    "papermill": {
     "duration": 0.069615,
     "end_time": "2021-12-09T15:24:06.650205",
     "exception": false,
     "start_time": "2021-12-09T15:24:06.580590",
     "status": "completed"
    },
    "tags": []
   },
   "outputs": [
    {
     "name": "stdout",
     "output_type": "stream",
     "text": [
      "Unique categories in column Gender 2\n",
      "Unique categories in column Geography 3\n"
     ]
    }
   ],
   "source": [
    "print(\"Unique categories in column Gender\", df[\"Gender\"].nunique())\n",
    "print(\"Unique categories in column Geography\", df[\"Geography\"].nunique())"
   ]
  },
  {
   "cell_type": "code",
   "execution_count": 20,
   "id": "694efb30",
   "metadata": {
    "execution": {
     "iopub.execute_input": "2021-12-09T15:24:06.764606Z",
     "iopub.status.busy": "2021-12-09T15:24:06.763916Z",
     "iopub.status.idle": "2021-12-09T15:24:06.917775Z",
     "shell.execute_reply": "2021-12-09T15:24:06.918532Z",
     "shell.execute_reply.started": "2021-12-09T15:19:18.139379Z"
    },
    "papermill": {
     "duration": 0.213144,
     "end_time": "2021-12-09T15:24:06.918757",
     "exception": false,
     "start_time": "2021-12-09T15:24:06.705613",
     "status": "completed"
    },
    "tags": []
   },
   "outputs": [
    {
     "name": "stdout",
     "output_type": "stream",
     "text": [
      "Mappings for Gender is: ['Female' 'Male']\n",
      "Mappings for Geography is: ['France' 'Germany' 'Spain']\n"
     ]
    }
   ],
   "source": [
    "from sklearn.preprocessing import LabelEncoder \n",
    "\n",
    "le1 = LabelEncoder() \n",
    "le2 = LabelEncoder() \n",
    "\n",
    "df['Gender']= le1.fit_transform(df['Gender']) \n",
    "df['Geography']= le2.fit_transform(df['Geography']) \n",
    "\n",
    "\n",
    "#Get the mappings: Ascending order\n",
    "print(\"Mappings for Gender is:\", le1.classes_)\n",
    "print(\"Mappings for Geography is:\", le2.classes_)"
   ]
  },
  {
   "cell_type": "code",
   "execution_count": 21,
   "id": "04f52893",
   "metadata": {
    "execution": {
     "iopub.execute_input": "2021-12-09T15:24:07.042670Z",
     "iopub.status.busy": "2021-12-09T15:24:07.036263Z",
     "iopub.status.idle": "2021-12-09T15:24:07.051522Z",
     "shell.execute_reply": "2021-12-09T15:24:07.050906Z",
     "shell.execute_reply.started": "2021-12-09T15:19:18.818564Z"
    },
    "papermill": {
     "duration": 0.07441,
     "end_time": "2021-12-09T15:24:07.051664",
     "exception": false,
     "start_time": "2021-12-09T15:24:06.977254",
     "status": "completed"
    },
    "tags": []
   },
   "outputs": [
    {
     "data": {
      "text/html": [
       "<div>\n",
       "<style scoped>\n",
       "    .dataframe tbody tr th:only-of-type {\n",
       "        vertical-align: middle;\n",
       "    }\n",
       "\n",
       "    .dataframe tbody tr th {\n",
       "        vertical-align: top;\n",
       "    }\n",
       "\n",
       "    .dataframe thead th {\n",
       "        text-align: right;\n",
       "    }\n",
       "</style>\n",
       "<table border=\"1\" class=\"dataframe\">\n",
       "  <thead>\n",
       "    <tr style=\"text-align: right;\">\n",
       "      <th></th>\n",
       "      <th>CreditScore</th>\n",
       "      <th>Geography</th>\n",
       "      <th>Gender</th>\n",
       "      <th>Age</th>\n",
       "      <th>Tenure</th>\n",
       "      <th>Balance</th>\n",
       "      <th>NumOfProducts</th>\n",
       "      <th>HasCrCard</th>\n",
       "      <th>IsActiveMember</th>\n",
       "      <th>EstimatedSalary</th>\n",
       "      <th>Exited</th>\n",
       "      <th>BalanceSalaryRatio</th>\n",
       "      <th>TenureByAge</th>\n",
       "      <th>CreditScoreGivenAge</th>\n",
       "    </tr>\n",
       "  </thead>\n",
       "  <tbody>\n",
       "    <tr>\n",
       "      <th>0</th>\n",
       "      <td>619</td>\n",
       "      <td>0</td>\n",
       "      <td>0</td>\n",
       "      <td>42</td>\n",
       "      <td>2</td>\n",
       "      <td>0.00</td>\n",
       "      <td>1</td>\n",
       "      <td>1</td>\n",
       "      <td>1</td>\n",
       "      <td>101348.88</td>\n",
       "      <td>1</td>\n",
       "      <td>0.000000</td>\n",
       "      <td>0.047619</td>\n",
       "      <td>14.738095</td>\n",
       "    </tr>\n",
       "    <tr>\n",
       "      <th>1</th>\n",
       "      <td>608</td>\n",
       "      <td>2</td>\n",
       "      <td>0</td>\n",
       "      <td>41</td>\n",
       "      <td>1</td>\n",
       "      <td>83807.86</td>\n",
       "      <td>1</td>\n",
       "      <td>-1</td>\n",
       "      <td>1</td>\n",
       "      <td>112542.58</td>\n",
       "      <td>0</td>\n",
       "      <td>0.744677</td>\n",
       "      <td>0.024390</td>\n",
       "      <td>14.829268</td>\n",
       "    </tr>\n",
       "    <tr>\n",
       "      <th>2</th>\n",
       "      <td>502</td>\n",
       "      <td>0</td>\n",
       "      <td>0</td>\n",
       "      <td>42</td>\n",
       "      <td>8</td>\n",
       "      <td>159660.80</td>\n",
       "      <td>3</td>\n",
       "      <td>1</td>\n",
       "      <td>-1</td>\n",
       "      <td>113931.57</td>\n",
       "      <td>1</td>\n",
       "      <td>1.401375</td>\n",
       "      <td>0.190476</td>\n",
       "      <td>11.952381</td>\n",
       "    </tr>\n",
       "    <tr>\n",
       "      <th>3</th>\n",
       "      <td>699</td>\n",
       "      <td>0</td>\n",
       "      <td>0</td>\n",
       "      <td>39</td>\n",
       "      <td>1</td>\n",
       "      <td>0.00</td>\n",
       "      <td>2</td>\n",
       "      <td>-1</td>\n",
       "      <td>-1</td>\n",
       "      <td>93826.63</td>\n",
       "      <td>0</td>\n",
       "      <td>0.000000</td>\n",
       "      <td>0.025641</td>\n",
       "      <td>17.923077</td>\n",
       "    </tr>\n",
       "    <tr>\n",
       "      <th>4</th>\n",
       "      <td>850</td>\n",
       "      <td>2</td>\n",
       "      <td>0</td>\n",
       "      <td>43</td>\n",
       "      <td>2</td>\n",
       "      <td>125510.82</td>\n",
       "      <td>1</td>\n",
       "      <td>1</td>\n",
       "      <td>1</td>\n",
       "      <td>79084.10</td>\n",
       "      <td>0</td>\n",
       "      <td>1.587055</td>\n",
       "      <td>0.046512</td>\n",
       "      <td>19.767442</td>\n",
       "    </tr>\n",
       "  </tbody>\n",
       "</table>\n",
       "</div>"
      ],
      "text/plain": [
       "   CreditScore  Geography  Gender  Age  Tenure    Balance  NumOfProducts  \\\n",
       "0          619          0       0   42       2       0.00              1   \n",
       "1          608          2       0   41       1   83807.86              1   \n",
       "2          502          0       0   42       8  159660.80              3   \n",
       "3          699          0       0   39       1       0.00              2   \n",
       "4          850          2       0   43       2  125510.82              1   \n",
       "\n",
       "   HasCrCard  IsActiveMember  EstimatedSalary  Exited  BalanceSalaryRatio  \\\n",
       "0          1               1        101348.88       1            0.000000   \n",
       "1         -1               1        112542.58       0            0.744677   \n",
       "2          1              -1        113931.57       1            1.401375   \n",
       "3         -1              -1         93826.63       0            0.000000   \n",
       "4          1               1         79084.10       0            1.587055   \n",
       "\n",
       "   TenureByAge  CreditScoreGivenAge  \n",
       "0     0.047619            14.738095  \n",
       "1     0.024390            14.829268  \n",
       "2     0.190476            11.952381  \n",
       "3     0.025641            17.923077  \n",
       "4     0.046512            19.767442  "
      ]
     },
     "execution_count": 21,
     "metadata": {},
     "output_type": "execute_result"
    }
   ],
   "source": [
    "df.head()"
   ]
  },
  {
   "cell_type": "code",
   "execution_count": 22,
   "id": "f7d01cde",
   "metadata": {
    "execution": {
     "iopub.execute_input": "2021-12-09T15:24:07.168637Z",
     "iopub.status.busy": "2021-12-09T15:24:07.167949Z",
     "iopub.status.idle": "2021-12-09T15:24:07.180028Z",
     "shell.execute_reply": "2021-12-09T15:24:07.180548Z",
     "shell.execute_reply.started": "2021-12-09T15:19:19.589057Z"
    },
    "papermill": {
     "duration": 0.071145,
     "end_time": "2021-12-09T15:24:07.180728",
     "exception": false,
     "start_time": "2021-12-09T15:24:07.109583",
     "status": "completed"
    },
    "tags": []
   },
   "outputs": [
    {
     "data": {
      "text/plain": [
       "Index(['CreditScore', 'Age', 'Tenure', 'Balance', 'NumOfProducts', 'HasCrCard',\n",
       "       'IsActiveMember', 'EstimatedSalary', 'Exited', 'BalanceSalaryRatio',\n",
       "       'TenureByAge', 'CreditScoreGivenAge', 'Gender_0', 'Gender_1',\n",
       "       'Geography_0', 'Geography_1', 'Geography_2'],\n",
       "      dtype='object')"
      ]
     },
     "execution_count": 22,
     "metadata": {},
     "output_type": "execute_result"
    }
   ],
   "source": [
    "df1 = pd.get_dummies(data=df, columns=['Gender','Geography'])\n",
    "df1.columns"
   ]
  },
  {
   "cell_type": "code",
   "execution_count": 23,
   "id": "a3d15b27",
   "metadata": {
    "execution": {
     "iopub.execute_input": "2021-12-09T15:24:07.295363Z",
     "iopub.status.busy": "2021-12-09T15:24:07.294791Z",
     "iopub.status.idle": "2021-12-09T15:24:07.309205Z",
     "shell.execute_reply": "2021-12-09T15:24:07.309753Z",
     "shell.execute_reply.started": "2021-12-09T15:19:22.803989Z"
    },
    "papermill": {
     "duration": 0.073121,
     "end_time": "2021-12-09T15:24:07.309923",
     "exception": false,
     "start_time": "2021-12-09T15:24:07.236802",
     "status": "completed"
    },
    "tags": []
   },
   "outputs": [
    {
     "data": {
      "text/html": [
       "<div>\n",
       "<style scoped>\n",
       "    .dataframe tbody tr th:only-of-type {\n",
       "        vertical-align: middle;\n",
       "    }\n",
       "\n",
       "    .dataframe tbody tr th {\n",
       "        vertical-align: top;\n",
       "    }\n",
       "\n",
       "    .dataframe thead th {\n",
       "        text-align: right;\n",
       "    }\n",
       "</style>\n",
       "<table border=\"1\" class=\"dataframe\">\n",
       "  <thead>\n",
       "    <tr style=\"text-align: right;\">\n",
       "      <th></th>\n",
       "      <th>CreditScore</th>\n",
       "      <th>Age</th>\n",
       "      <th>Tenure</th>\n",
       "      <th>Balance</th>\n",
       "      <th>NumOfProducts</th>\n",
       "      <th>HasCrCard</th>\n",
       "      <th>IsActiveMember</th>\n",
       "      <th>EstimatedSalary</th>\n",
       "      <th>Exited</th>\n",
       "      <th>BalanceSalaryRatio</th>\n",
       "      <th>TenureByAge</th>\n",
       "      <th>CreditScoreGivenAge</th>\n",
       "      <th>Gender_0</th>\n",
       "      <th>Gender_1</th>\n",
       "      <th>Geography_0</th>\n",
       "      <th>Geography_1</th>\n",
       "      <th>Geography_2</th>\n",
       "    </tr>\n",
       "  </thead>\n",
       "  <tbody>\n",
       "    <tr>\n",
       "      <th>0</th>\n",
       "      <td>619</td>\n",
       "      <td>42</td>\n",
       "      <td>2</td>\n",
       "      <td>0.00</td>\n",
       "      <td>1</td>\n",
       "      <td>1</td>\n",
       "      <td>1</td>\n",
       "      <td>101348.88</td>\n",
       "      <td>1</td>\n",
       "      <td>0.000000</td>\n",
       "      <td>0.047619</td>\n",
       "      <td>14.738095</td>\n",
       "      <td>1</td>\n",
       "      <td>0</td>\n",
       "      <td>1</td>\n",
       "      <td>0</td>\n",
       "      <td>0</td>\n",
       "    </tr>\n",
       "    <tr>\n",
       "      <th>1</th>\n",
       "      <td>608</td>\n",
       "      <td>41</td>\n",
       "      <td>1</td>\n",
       "      <td>83807.86</td>\n",
       "      <td>1</td>\n",
       "      <td>-1</td>\n",
       "      <td>1</td>\n",
       "      <td>112542.58</td>\n",
       "      <td>0</td>\n",
       "      <td>0.744677</td>\n",
       "      <td>0.024390</td>\n",
       "      <td>14.829268</td>\n",
       "      <td>1</td>\n",
       "      <td>0</td>\n",
       "      <td>0</td>\n",
       "      <td>0</td>\n",
       "      <td>1</td>\n",
       "    </tr>\n",
       "    <tr>\n",
       "      <th>2</th>\n",
       "      <td>502</td>\n",
       "      <td>42</td>\n",
       "      <td>8</td>\n",
       "      <td>159660.80</td>\n",
       "      <td>3</td>\n",
       "      <td>1</td>\n",
       "      <td>-1</td>\n",
       "      <td>113931.57</td>\n",
       "      <td>1</td>\n",
       "      <td>1.401375</td>\n",
       "      <td>0.190476</td>\n",
       "      <td>11.952381</td>\n",
       "      <td>1</td>\n",
       "      <td>0</td>\n",
       "      <td>1</td>\n",
       "      <td>0</td>\n",
       "      <td>0</td>\n",
       "    </tr>\n",
       "    <tr>\n",
       "      <th>3</th>\n",
       "      <td>699</td>\n",
       "      <td>39</td>\n",
       "      <td>1</td>\n",
       "      <td>0.00</td>\n",
       "      <td>2</td>\n",
       "      <td>-1</td>\n",
       "      <td>-1</td>\n",
       "      <td>93826.63</td>\n",
       "      <td>0</td>\n",
       "      <td>0.000000</td>\n",
       "      <td>0.025641</td>\n",
       "      <td>17.923077</td>\n",
       "      <td>1</td>\n",
       "      <td>0</td>\n",
       "      <td>1</td>\n",
       "      <td>0</td>\n",
       "      <td>0</td>\n",
       "    </tr>\n",
       "    <tr>\n",
       "      <th>4</th>\n",
       "      <td>850</td>\n",
       "      <td>43</td>\n",
       "      <td>2</td>\n",
       "      <td>125510.82</td>\n",
       "      <td>1</td>\n",
       "      <td>1</td>\n",
       "      <td>1</td>\n",
       "      <td>79084.10</td>\n",
       "      <td>0</td>\n",
       "      <td>1.587055</td>\n",
       "      <td>0.046512</td>\n",
       "      <td>19.767442</td>\n",
       "      <td>1</td>\n",
       "      <td>0</td>\n",
       "      <td>0</td>\n",
       "      <td>0</td>\n",
       "      <td>1</td>\n",
       "    </tr>\n",
       "  </tbody>\n",
       "</table>\n",
       "</div>"
      ],
      "text/plain": [
       "   CreditScore  Age  Tenure    Balance  NumOfProducts  HasCrCard  \\\n",
       "0          619   42       2       0.00              1          1   \n",
       "1          608   41       1   83807.86              1         -1   \n",
       "2          502   42       8  159660.80              3          1   \n",
       "3          699   39       1       0.00              2         -1   \n",
       "4          850   43       2  125510.82              1          1   \n",
       "\n",
       "   IsActiveMember  EstimatedSalary  Exited  BalanceSalaryRatio  TenureByAge  \\\n",
       "0               1        101348.88       1            0.000000     0.047619   \n",
       "1               1        112542.58       0            0.744677     0.024390   \n",
       "2              -1        113931.57       1            1.401375     0.190476   \n",
       "3              -1         93826.63       0            0.000000     0.025641   \n",
       "4               1         79084.10       0            1.587055     0.046512   \n",
       "\n",
       "   CreditScoreGivenAge  Gender_0  Gender_1  Geography_0  Geography_1  \\\n",
       "0            14.738095         1         0            1            0   \n",
       "1            14.829268         1         0            0            0   \n",
       "2            11.952381         1         0            1            0   \n",
       "3            17.923077         1         0            1            0   \n",
       "4            19.767442         1         0            0            0   \n",
       "\n",
       "   Geography_2  \n",
       "0            0  \n",
       "1            1  \n",
       "2            0  \n",
       "3            0  \n",
       "4            1  "
      ]
     },
     "execution_count": 23,
     "metadata": {},
     "output_type": "execute_result"
    }
   ],
   "source": [
    "df1.head()"
   ]
  },
  {
   "cell_type": "markdown",
   "id": "e91b1a98",
   "metadata": {
    "papermill": {
     "duration": 0.056137,
     "end_time": "2021-12-09T15:24:07.421895",
     "exception": false,
     "start_time": "2021-12-09T15:24:07.365758",
     "status": "completed"
    },
    "tags": []
   },
   "source": [
    "#### Scaling the continuous attributes using MinMaxScaler"
   ]
  },
  {
   "cell_type": "code",
   "execution_count": 24,
   "id": "8c8f4e3f",
   "metadata": {
    "execution": {
     "iopub.execute_input": "2021-12-09T15:24:07.540742Z",
     "iopub.status.busy": "2021-12-09T15:24:07.539943Z",
     "iopub.status.idle": "2021-12-09T15:24:07.551977Z",
     "shell.execute_reply": "2021-12-09T15:24:07.552487Z",
     "shell.execute_reply.started": "2021-12-09T15:19:23.574039Z"
    },
    "papermill": {
     "duration": 0.073506,
     "end_time": "2021-12-09T15:24:07.552658",
     "exception": false,
     "start_time": "2021-12-09T15:24:07.479152",
     "status": "completed"
    },
    "tags": []
   },
   "outputs": [],
   "source": [
    "from sklearn.preprocessing import MinMaxScaler\n",
    "scaler = MinMaxScaler()\n",
    "df1[continuous_vars] = scaler.fit_transform(df1[continuous_vars])"
   ]
  },
  {
   "cell_type": "code",
   "execution_count": 25,
   "id": "603a1033",
   "metadata": {
    "execution": {
     "iopub.execute_input": "2021-12-09T15:24:07.671045Z",
     "iopub.status.busy": "2021-12-09T15:24:07.670442Z",
     "iopub.status.idle": "2021-12-09T15:24:07.685498Z",
     "shell.execute_reply": "2021-12-09T15:24:07.686026Z",
     "shell.execute_reply.started": "2021-12-09T15:19:30.359809Z"
    },
    "papermill": {
     "duration": 0.077982,
     "end_time": "2021-12-09T15:24:07.686201",
     "exception": false,
     "start_time": "2021-12-09T15:24:07.608219",
     "status": "completed"
    },
    "tags": []
   },
   "outputs": [
    {
     "data": {
      "text/html": [
       "<div>\n",
       "<style scoped>\n",
       "    .dataframe tbody tr th:only-of-type {\n",
       "        vertical-align: middle;\n",
       "    }\n",
       "\n",
       "    .dataframe tbody tr th {\n",
       "        vertical-align: top;\n",
       "    }\n",
       "\n",
       "    .dataframe thead th {\n",
       "        text-align: right;\n",
       "    }\n",
       "</style>\n",
       "<table border=\"1\" class=\"dataframe\">\n",
       "  <thead>\n",
       "    <tr style=\"text-align: right;\">\n",
       "      <th></th>\n",
       "      <th>CreditScore</th>\n",
       "      <th>Age</th>\n",
       "      <th>Tenure</th>\n",
       "      <th>Balance</th>\n",
       "      <th>NumOfProducts</th>\n",
       "      <th>HasCrCard</th>\n",
       "      <th>IsActiveMember</th>\n",
       "      <th>EstimatedSalary</th>\n",
       "      <th>Exited</th>\n",
       "      <th>BalanceSalaryRatio</th>\n",
       "      <th>TenureByAge</th>\n",
       "      <th>CreditScoreGivenAge</th>\n",
       "      <th>Gender_0</th>\n",
       "      <th>Gender_1</th>\n",
       "      <th>Geography_0</th>\n",
       "      <th>Geography_1</th>\n",
       "      <th>Geography_2</th>\n",
       "    </tr>\n",
       "  </thead>\n",
       "  <tbody>\n",
       "    <tr>\n",
       "      <th>0</th>\n",
       "      <td>0.538</td>\n",
       "      <td>0.324324</td>\n",
       "      <td>0.2</td>\n",
       "      <td>0.000000</td>\n",
       "      <td>0.000000</td>\n",
       "      <td>1</td>\n",
       "      <td>1</td>\n",
       "      <td>0.506735</td>\n",
       "      <td>1</td>\n",
       "      <td>0.000000</td>\n",
       "      <td>0.085714</td>\n",
       "      <td>0.235083</td>\n",
       "      <td>1</td>\n",
       "      <td>0</td>\n",
       "      <td>1</td>\n",
       "      <td>0</td>\n",
       "      <td>0</td>\n",
       "    </tr>\n",
       "    <tr>\n",
       "      <th>1</th>\n",
       "      <td>0.516</td>\n",
       "      <td>0.310811</td>\n",
       "      <td>0.1</td>\n",
       "      <td>0.334031</td>\n",
       "      <td>0.000000</td>\n",
       "      <td>-1</td>\n",
       "      <td>1</td>\n",
       "      <td>0.562709</td>\n",
       "      <td>0</td>\n",
       "      <td>0.000070</td>\n",
       "      <td>0.043902</td>\n",
       "      <td>0.237252</td>\n",
       "      <td>1</td>\n",
       "      <td>0</td>\n",
       "      <td>0</td>\n",
       "      <td>0</td>\n",
       "      <td>1</td>\n",
       "    </tr>\n",
       "    <tr>\n",
       "      <th>2</th>\n",
       "      <td>0.304</td>\n",
       "      <td>0.324324</td>\n",
       "      <td>0.8</td>\n",
       "      <td>0.636357</td>\n",
       "      <td>0.666667</td>\n",
       "      <td>1</td>\n",
       "      <td>-1</td>\n",
       "      <td>0.569654</td>\n",
       "      <td>1</td>\n",
       "      <td>0.000132</td>\n",
       "      <td>0.342857</td>\n",
       "      <td>0.168807</td>\n",
       "      <td>1</td>\n",
       "      <td>0</td>\n",
       "      <td>1</td>\n",
       "      <td>0</td>\n",
       "      <td>0</td>\n",
       "    </tr>\n",
       "    <tr>\n",
       "      <th>3</th>\n",
       "      <td>0.698</td>\n",
       "      <td>0.283784</td>\n",
       "      <td>0.1</td>\n",
       "      <td>0.000000</td>\n",
       "      <td>0.333333</td>\n",
       "      <td>-1</td>\n",
       "      <td>-1</td>\n",
       "      <td>0.469120</td>\n",
       "      <td>0</td>\n",
       "      <td>0.000000</td>\n",
       "      <td>0.046154</td>\n",
       "      <td>0.310859</td>\n",
       "      <td>1</td>\n",
       "      <td>0</td>\n",
       "      <td>1</td>\n",
       "      <td>0</td>\n",
       "      <td>0</td>\n",
       "    </tr>\n",
       "    <tr>\n",
       "      <th>4</th>\n",
       "      <td>1.000</td>\n",
       "      <td>0.337838</td>\n",
       "      <td>0.2</td>\n",
       "      <td>0.500246</td>\n",
       "      <td>0.000000</td>\n",
       "      <td>1</td>\n",
       "      <td>1</td>\n",
       "      <td>0.395400</td>\n",
       "      <td>0</td>\n",
       "      <td>0.000150</td>\n",
       "      <td>0.083721</td>\n",
       "      <td>0.354739</td>\n",
       "      <td>1</td>\n",
       "      <td>0</td>\n",
       "      <td>0</td>\n",
       "      <td>0</td>\n",
       "      <td>1</td>\n",
       "    </tr>\n",
       "  </tbody>\n",
       "</table>\n",
       "</div>"
      ],
      "text/plain": [
       "   CreditScore       Age  Tenure   Balance  NumOfProducts  HasCrCard  \\\n",
       "0        0.538  0.324324     0.2  0.000000       0.000000          1   \n",
       "1        0.516  0.310811     0.1  0.334031       0.000000         -1   \n",
       "2        0.304  0.324324     0.8  0.636357       0.666667          1   \n",
       "3        0.698  0.283784     0.1  0.000000       0.333333         -1   \n",
       "4        1.000  0.337838     0.2  0.500246       0.000000          1   \n",
       "\n",
       "   IsActiveMember  EstimatedSalary  Exited  BalanceSalaryRatio  TenureByAge  \\\n",
       "0               1         0.506735       1            0.000000     0.085714   \n",
       "1               1         0.562709       0            0.000070     0.043902   \n",
       "2              -1         0.569654       1            0.000132     0.342857   \n",
       "3              -1         0.469120       0            0.000000     0.046154   \n",
       "4               1         0.395400       0            0.000150     0.083721   \n",
       "\n",
       "   CreditScoreGivenAge  Gender_0  Gender_1  Geography_0  Geography_1  \\\n",
       "0             0.235083         1         0            1            0   \n",
       "1             0.237252         1         0            0            0   \n",
       "2             0.168807         1         0            1            0   \n",
       "3             0.310859         1         0            1            0   \n",
       "4             0.354739         1         0            0            0   \n",
       "\n",
       "   Geography_2  \n",
       "0            0  \n",
       "1            1  \n",
       "2            0  \n",
       "3            0  \n",
       "4            1  "
      ]
     },
     "execution_count": 25,
     "metadata": {},
     "output_type": "execute_result"
    }
   ],
   "source": [
    "df1.head()"
   ]
  },
  {
   "cell_type": "markdown",
   "id": "ab5cf5c1",
   "metadata": {
    "papermill": {
     "duration": 0.05803,
     "end_time": "2021-12-09T15:24:07.800754",
     "exception": false,
     "start_time": "2021-12-09T15:24:07.742724",
     "status": "completed"
    },
    "tags": []
   },
   "source": [
    "#### 5.Model fitting and selection"
   ]
  },
  {
   "cell_type": "code",
   "execution_count": 26,
   "id": "9701962a",
   "metadata": {
    "execution": {
     "iopub.execute_input": "2021-12-09T15:24:07.917485Z",
     "iopub.status.busy": "2021-12-09T15:24:07.916784Z",
     "iopub.status.idle": "2021-12-09T15:24:08.257686Z",
     "shell.execute_reply": "2021-12-09T15:24:08.257079Z",
     "shell.execute_reply.started": "2021-12-09T15:19:36.204449Z"
    },
    "papermill": {
     "duration": 0.40028,
     "end_time": "2021-12-09T15:24:08.257828",
     "exception": false,
     "start_time": "2021-12-09T15:24:07.857548",
     "status": "completed"
    },
    "tags": []
   },
   "outputs": [],
   "source": [
    "# Support functions\n",
    "from sklearn.preprocessing import PolynomialFeatures\n",
    "from sklearn.model_selection import cross_val_score\n",
    "from sklearn.model_selection import GridSearchCV\n",
    "from scipy.stats import uniform\n",
    "\n",
    "# Fit models\n",
    "from sklearn.linear_model import LogisticRegression\n",
    "from sklearn.svm import SVC\n",
    "from sklearn.ensemble import RandomForestClassifier\n",
    "from xgboost import XGBClassifier\n",
    "\n",
    "# Scoring functions\n",
    "from sklearn.metrics import accuracy_score\n",
    "from sklearn.metrics import classification_report\n",
    "from sklearn.metrics import roc_auc_score\n",
    "from sklearn.metrics import roc_curve"
   ]
  },
  {
   "cell_type": "code",
   "execution_count": 27,
   "id": "0ca1e952",
   "metadata": {
    "execution": {
     "iopub.execute_input": "2021-12-09T15:24:08.373672Z",
     "iopub.status.busy": "2021-12-09T15:24:08.372899Z",
     "iopub.status.idle": "2021-12-09T15:24:08.391030Z",
     "shell.execute_reply": "2021-12-09T15:24:08.391529Z",
     "shell.execute_reply.started": "2021-12-09T15:19:39.378902Z"
    },
    "papermill": {
     "duration": 0.077482,
     "end_time": "2021-12-09T15:24:08.391697",
     "exception": false,
     "start_time": "2021-12-09T15:24:08.314215",
     "status": "completed"
    },
    "tags": []
   },
   "outputs": [],
   "source": [
    "#Get the features and the labels: Stratified sampling is preferred here\n",
    "X = df1.drop('Exited',axis='columns')\n",
    "y = df1['Exited']\n",
    "\n",
    "\n",
    "from sklearn.model_selection import train_test_split\n",
    "X_train, X_test, y_train, y_test = train_test_split(X,y,test_size=0.2,stratify=y, random_state=5)"
   ]
  },
  {
   "cell_type": "code",
   "execution_count": 28,
   "id": "91dc323b",
   "metadata": {
    "execution": {
     "iopub.execute_input": "2021-12-09T15:24:08.510153Z",
     "iopub.status.busy": "2021-12-09T15:24:08.509421Z",
     "iopub.status.idle": "2021-12-09T15:24:08.515347Z",
     "shell.execute_reply": "2021-12-09T15:24:08.515855Z",
     "shell.execute_reply.started": "2021-12-09T15:19:42.544050Z"
    },
    "papermill": {
     "duration": 0.067004,
     "end_time": "2021-12-09T15:24:08.516021",
     "exception": false,
     "start_time": "2021-12-09T15:24:08.449017",
     "status": "completed"
    },
    "tags": []
   },
   "outputs": [
    {
     "data": {
      "text/plain": [
       "0    6370\n",
       "1    1630\n",
       "Name: Exited, dtype: int64"
      ]
     },
     "execution_count": 28,
     "metadata": {},
     "output_type": "execute_result"
    }
   ],
   "source": [
    "#Get the distribution of labels in y_train\n",
    "y_train.value_counts()"
   ]
  },
  {
   "cell_type": "code",
   "execution_count": 29,
   "id": "03339239",
   "metadata": {
    "execution": {
     "iopub.execute_input": "2021-12-09T15:24:08.634078Z",
     "iopub.status.busy": "2021-12-09T15:24:08.633491Z",
     "iopub.status.idle": "2021-12-09T15:24:08.639586Z",
     "shell.execute_reply": "2021-12-09T15:24:08.640019Z",
     "shell.execute_reply.started": "2021-12-09T15:19:42.684096Z"
    },
    "papermill": {
     "duration": 0.06603,
     "end_time": "2021-12-09T15:24:08.640180",
     "exception": false,
     "start_time": "2021-12-09T15:24:08.574150",
     "status": "completed"
    },
    "tags": []
   },
   "outputs": [
    {
     "data": {
      "text/plain": [
       "0    1593\n",
       "1     407\n",
       "Name: Exited, dtype: int64"
      ]
     },
     "execution_count": 29,
     "metadata": {},
     "output_type": "execute_result"
    }
   ],
   "source": [
    "#Get the distribution of labels in y_test\n",
    "y_test.value_counts()"
   ]
  },
  {
   "cell_type": "markdown",
   "id": "2ee062e2",
   "metadata": {
    "papermill": {
     "duration": 0.057207,
     "end_time": "2021-12-09T15:24:08.754464",
     "exception": false,
     "start_time": "2021-12-09T15:24:08.697257",
     "status": "completed"
    },
    "tags": []
   },
   "source": [
    "### Figuring out the importance of features in our dataset"
   ]
  },
  {
   "cell_type": "code",
   "execution_count": 30,
   "id": "031da489",
   "metadata": {
    "execution": {
     "iopub.execute_input": "2021-12-09T15:24:08.878630Z",
     "iopub.status.busy": "2021-12-09T15:24:08.877636Z",
     "iopub.status.idle": "2021-12-09T15:24:15.602315Z",
     "shell.execute_reply": "2021-12-09T15:24:15.601778Z",
     "shell.execute_reply.started": "2021-12-09T15:19:44.168995Z"
    },
    "papermill": {
     "duration": 6.790737,
     "end_time": "2021-12-09T15:24:15.602457",
     "exception": false,
     "start_time": "2021-12-09T15:24:08.811720",
     "status": "completed"
    },
    "tags": []
   },
   "outputs": [
    {
     "name": "stdout",
     "output_type": "stream",
     "text": [
      " 1) CreditScore                    0.162967\n",
      " 2) Age                            0.129716\n",
      " 3) Tenure                         0.118392\n",
      " 4) Balance                        0.094615\n",
      " 5) NumOfProducts                  0.094175\n",
      " 6) HasCrCard                      0.089472\n",
      " 7) IsActiveMember                 0.077986\n",
      " 8) EstimatedSalary                0.072941\n",
      " 9) BalanceSalaryRatio             0.044951\n",
      "10) TenureByAge                    0.040128\n",
      "11) CreditScoreGivenAge            0.020095\n",
      "12) Gender_0                       0.014145\n",
      "13) Gender_1                       0.010323\n",
      "14) Geography_0                    0.010272\n",
      "15) Geography_1                    0.010212\n",
      "16) Geography_2                    0.009610\n"
     ]
    }
   ],
   "source": [
    "features_label = X_train.columns\n",
    "forest = RandomForestClassifier (n_estimators = 1000, random_state = 0, n_jobs = -1)\n",
    "forest.fit(X_train, y_train)\n",
    "importances = forest.feature_importances_\n",
    "indices = np.argsort(importances)[::-1]\n",
    "for i in range(X.shape[1]):\n",
    "    print (\"%2d) %-*s %f\" % (i + 1, 30, features_label[i], importances[indices[i]]))"
   ]
  },
  {
   "cell_type": "code",
   "execution_count": 31,
   "id": "66594170",
   "metadata": {
    "execution": {
     "iopub.execute_input": "2021-12-09T15:24:15.736529Z",
     "iopub.status.busy": "2021-12-09T15:24:15.727565Z",
     "iopub.status.idle": "2021-12-09T15:24:16.017449Z",
     "shell.execute_reply": "2021-12-09T15:24:16.016910Z",
     "shell.execute_reply.started": "2021-12-09T15:19:51.457852Z"
    },
    "papermill": {
     "duration": 0.357916,
     "end_time": "2021-12-09T15:24:16.017593",
     "exception": false,
     "start_time": "2021-12-09T15:24:15.659677",
     "status": "completed"
    },
    "tags": []
   },
   "outputs": [
    {
     "data": {
      "image/png": "[encoded data removed]",
      "text/plain": [
       "<Figure size 432x288 with 1 Axes>"
      ]
     },
     "metadata": {},
     "output_type": "display_data"
    }
   ],
   "source": [
    "# Visualization of the Feature importances\n",
    "plt.title('Feature Importances')\n",
    "plt.bar(range(X_train.shape[1]), importances[indices], color = \"green\", align = \"center\")\n",
    "plt.xticks(range(X_train.shape[1]), features_label, rotation = 90)\n",
    "plt.show()"
   ]
  },
  {
   "cell_type": "markdown",
   "id": "2f61cb40",
   "metadata": {
    "papermill": {
     "duration": 0.061539,
     "end_time": "2021-12-09T15:24:16.138328",
     "exception": false,
     "start_time": "2021-12-09T15:24:16.076789",
     "status": "completed"
    },
    "tags": []
   },
   "source": [
    "### Grid Search for the best model & model parameters"
   ]
  },
  {
   "cell_type": "code",
   "execution_count": 32,
   "id": "9d35972b",
   "metadata": {
    "execution": {
     "iopub.execute_input": "2021-12-09T15:24:16.263627Z",
     "iopub.status.busy": "2021-12-09T15:24:16.262847Z",
     "iopub.status.idle": "2021-12-09T15:24:16.265796Z",
     "shell.execute_reply": "2021-12-09T15:24:16.265354Z",
     "shell.execute_reply.started": "2021-12-09T15:19:52.223840Z"
    },
    "papermill": {
     "duration": 0.067852,
     "end_time": "2021-12-09T15:24:16.265932",
     "exception": false,
     "start_time": "2021-12-09T15:24:16.198080",
     "status": "completed"
    },
    "tags": []
   },
   "outputs": [],
   "source": [
    "### getting the best suited parameters from the dataset\n",
    "def best_model(model):\n",
    "    print(model.best_score_)    \n",
    "    print(model.best_params_)\n",
    "    print(model.best_estimator_)\n",
    "\n",
    "\n",
    "def get_auc_scores(y_actual, method,method2):\n",
    "    auc_score = roc_auc_score(y_actual, method); \n",
    "    fpr_df, tpr_df, _ = roc_curve(y_actual, method2); \n",
    "    return (auc_score, fpr_df, tpr_df)"
   ]
  },
  {
   "cell_type": "markdown",
   "id": "5780a560",
   "metadata": {
    "papermill": {
     "duration": 0.058839,
     "end_time": "2021-12-09T15:24:16.384173",
     "exception": false,
     "start_time": "2021-12-09T15:24:16.325334",
     "status": "completed"
    },
    "tags": []
   },
   "source": [
    "#### 1: Primal Logistic Regression"
   ]
  },
  {
   "cell_type": "code",
   "execution_count": 33,
   "id": "ba8f03f3",
   "metadata": {
    "execution": {
     "iopub.execute_input": "2021-12-09T15:24:16.508446Z",
     "iopub.status.busy": "2021-12-09T15:24:16.507795Z",
     "iopub.status.idle": "2021-12-09T15:24:16.510761Z",
     "shell.execute_reply": "2021-12-09T15:24:16.510175Z",
     "shell.execute_reply.started": "2021-12-09T13:29:09.905538Z"
    },
    "papermill": {
     "duration": 0.06756,
     "end_time": "2021-12-09T15:24:16.510892",
     "exception": false,
     "start_time": "2021-12-09T15:24:16.443332",
     "status": "completed"
    },
    "tags": []
   },
   "outputs": [],
   "source": [
    "# ####1: Primal logistic regression\n",
    "\n",
    "# # Fit primal logistic regression\n",
    "# param_grid = {'C': [0.1,0.5,1,10,50,100], 'max_iter': [250], 'fit_intercept':[True],'intercept_scaling':[1],\n",
    "#               'penalty':['l2'], 'tol':[0.0001,0.00001,0.000001]}\n",
    "# log_primal_Grid = GridSearchCV(LogisticRegression(solver='lbfgs'),param_grid, cv=10, refit=True, verbose=0)\n",
    "# log_primal_Grid.fit(X_train, y_train)\n",
    "# best_model(log_primal_Grid)"
   ]
  },
  {
   "cell_type": "code",
   "execution_count": 34,
   "id": "76686550",
   "metadata": {
    "execution": {
     "iopub.execute_input": "2021-12-09T15:24:16.636659Z",
     "iopub.status.busy": "2021-12-09T15:24:16.635923Z",
     "iopub.status.idle": "2021-12-09T15:24:16.826744Z",
     "shell.execute_reply": "2021-12-09T15:24:16.825854Z",
     "shell.execute_reply.started": "2021-12-09T15:19:57.911088Z"
    },
    "papermill": {
     "duration": 0.257083,
     "end_time": "2021-12-09T15:24:16.826977",
     "exception": false,
     "start_time": "2021-12-09T15:24:16.569894",
     "status": "completed"
    },
    "tags": []
   },
   "outputs": [
    {
     "data": {
      "text/plain": [
       "LogisticRegression(C=10, max_iter=250, tol=1e-05)"
      ]
     },
     "execution_count": 34,
     "metadata": {},
     "output_type": "execute_result"
    }
   ],
   "source": [
    "# Fitting the best primal logistic regression\n",
    "log_primal = LogisticRegression(C=10, class_weight=None, dual=False, fit_intercept=True,intercept_scaling=1, max_iter=250, multi_class='auto',n_jobs=None, \n",
    "                                penalty='l2', random_state=None, solver='lbfgs',tol=1e-05, verbose=0, warm_start=False)\n",
    "log_primal.fit(X_train,y_train)"
   ]
  },
  {
   "cell_type": "markdown",
   "id": "af35d939",
   "metadata": {
    "papermill": {
     "duration": 0.058864,
     "end_time": "2021-12-09T15:24:17.000033",
     "exception": false,
     "start_time": "2021-12-09T15:24:16.941169",
     "status": "completed"
    },
    "tags": []
   },
   "source": [
    "#### 2: Poly Logistic regression"
   ]
  },
  {
   "cell_type": "code",
   "execution_count": 35,
   "id": "4e10d289",
   "metadata": {
    "execution": {
     "iopub.execute_input": "2021-12-09T15:24:17.124672Z",
     "iopub.status.busy": "2021-12-09T15:24:17.123946Z",
     "iopub.status.idle": "2021-12-09T15:24:17.126782Z",
     "shell.execute_reply": "2021-12-09T15:24:17.126099Z",
     "shell.execute_reply.started": "2021-12-09T13:32:57.006165Z"
    },
    "papermill": {
     "duration": 0.067356,
     "end_time": "2021-12-09T15:24:17.126940",
     "exception": false,
     "start_time": "2021-12-09T15:24:17.059584",
     "status": "completed"
    },
    "tags": []
   },
   "outputs": [],
   "source": [
    "# ####2:  Fit logistic regression with pol 2 kernel\n",
    "# param_grid = {'C': [0.1,10,50], 'max_iter': [300,500], 'fit_intercept':[True],'intercept_scaling':[1],'penalty':['l2'],\n",
    "#               'tol':[0.0001,0.000001]}\n",
    "# poly2 = PolynomialFeatures(degree=2)\n",
    "# X_train_pol2 = poly2.fit_transform(X_train)\n",
    "# log_pol2_Grid = GridSearchCV(LogisticRegression(solver = 'liblinear'),param_grid, cv=5, refit=True, verbose=0)\n",
    "# log_pol2_Grid.fit(X_train_pol2,y_train)\n",
    "# best_model(log_pol2_Grid)"
   ]
  },
  {
   "cell_type": "code",
   "execution_count": 36,
   "id": "3758f251",
   "metadata": {
    "execution": {
     "iopub.execute_input": "2021-12-09T15:24:17.254499Z",
     "iopub.status.busy": "2021-12-09T15:24:17.253817Z",
     "iopub.status.idle": "2021-12-09T15:24:18.205359Z",
     "shell.execute_reply": "2021-12-09T15:24:18.205770Z",
     "shell.execute_reply.started": "2021-12-09T15:20:02.558833Z"
    },
    "papermill": {
     "duration": 1.018802,
     "end_time": "2021-12-09T15:24:18.205942",
     "exception": false,
     "start_time": "2021-12-09T15:24:17.187140",
     "status": "completed"
    },
    "tags": []
   },
   "outputs": [
    {
     "data": {
      "text/plain": [
       "LogisticRegression(C=10, max_iter=300, solver='liblinear')"
      ]
     },
     "execution_count": 36,
     "metadata": {},
     "output_type": "execute_result"
    }
   ],
   "source": [
    "# Fitting the best model basis CV\n",
    "\n",
    "poly2 = PolynomialFeatures(degree=2)\n",
    "df_train_pol2 = poly2.fit_transform(X_train)\n",
    "log_pol2 = LogisticRegression(C=10, class_weight=None, dual=False, fit_intercept=True,intercept_scaling=1, max_iter=300, multi_class='auto', n_jobs=None, \n",
    "                              penalty='l2', random_state=None, solver='liblinear',tol=0.0001, verbose=0, warm_start=False)\n",
    "log_pol2.fit(df_train_pol2,y_train)"
   ]
  },
  {
   "cell_type": "markdown",
   "id": "f4674516",
   "metadata": {
    "papermill": {
     "duration": 0.058676,
     "end_time": "2021-12-09T15:24:18.323618",
     "exception": false,
     "start_time": "2021-12-09T15:24:18.264942",
     "status": "completed"
    },
    "tags": []
   },
   "source": [
    "#### 3: SVM w/ RBF Kernel"
   ]
  },
  {
   "cell_type": "code",
   "execution_count": 37,
   "id": "3434c2fb",
   "metadata": {
    "execution": {
     "iopub.execute_input": "2021-12-09T15:24:18.446368Z",
     "iopub.status.busy": "2021-12-09T15:24:18.445608Z",
     "iopub.status.idle": "2021-12-09T15:24:18.448890Z",
     "shell.execute_reply": "2021-12-09T15:24:18.448397Z",
     "shell.execute_reply.started": "2021-12-09T13:38:04.620119Z"
    },
    "papermill": {
     "duration": 0.066604,
     "end_time": "2021-12-09T15:24:18.449027",
     "exception": false,
     "start_time": "2021-12-09T15:24:18.382423",
     "status": "completed"
    },
    "tags": []
   },
   "outputs": [],
   "source": [
    "# # Fit SVM with RBF Kernel\n",
    "# param_grid = {'C': [0.5,100,150], 'gamma': [0.1,0.01,0.001],'probability':[True],'kernel': ['rbf']}\n",
    "# SVM_grid = GridSearchCV(SVC(), param_grid, cv=10, refit=True, verbose=0)\n",
    "# SVM_grid.fit(X_train, y_train)\n",
    "# best_model(SVM_grid)"
   ]
  },
  {
   "cell_type": "code",
   "execution_count": 38,
   "id": "7c7228a3",
   "metadata": {
    "execution": {
     "iopub.execute_input": "2021-12-09T15:24:18.574422Z",
     "iopub.status.busy": "2021-12-09T15:24:18.573626Z",
     "iopub.status.idle": "2021-12-09T15:24:32.923449Z",
     "shell.execute_reply": "2021-12-09T15:24:32.922836Z",
     "shell.execute_reply.started": "2021-12-09T15:20:07.349297Z"
    },
    "papermill": {
     "duration": 14.415612,
     "end_time": "2021-12-09T15:24:32.923593",
     "exception": false,
     "start_time": "2021-12-09T15:24:18.507981",
     "status": "completed"
    },
    "tags": []
   },
   "outputs": [
    {
     "data": {
      "text/plain": [
       "SVC(C=100, gamma=0.1, probability=True)"
      ]
     },
     "execution_count": 38,
     "metadata": {},
     "output_type": "execute_result"
    }
   ],
   "source": [
    "# Fit SVM with RBF Kernel\n",
    "SVM_RBF = SVC(C=100, cache_size=200, class_weight=None, coef0=0.0, decision_function_shape='ovr', degree=3, gamma=0.1, kernel='rbf', max_iter=-1, probability=True, \n",
    "              random_state=None, shrinking=True,tol=0.001, verbose=False)\n",
    "SVM_RBF.fit(X_train,y_train)"
   ]
  },
  {
   "cell_type": "markdown",
   "id": "d9ed6b67",
   "metadata": {
    "papermill": {
     "duration": 0.060373,
     "end_time": "2021-12-09T15:24:33.043214",
     "exception": false,
     "start_time": "2021-12-09T15:24:32.982841",
     "status": "completed"
    },
    "tags": []
   },
   "source": [
    "### 4: SVM w/ Pol Kernel"
   ]
  },
  {
   "cell_type": "code",
   "execution_count": 39,
   "id": "e664beaa",
   "metadata": {
    "execution": {
     "iopub.execute_input": "2021-12-09T15:24:33.166383Z",
     "iopub.status.busy": "2021-12-09T15:24:33.165691Z",
     "iopub.status.idle": "2021-12-09T15:24:33.168560Z",
     "shell.execute_reply": "2021-12-09T15:24:33.169046Z",
     "shell.execute_reply.started": "2021-12-09T14:25:55.151055Z"
    },
    "papermill": {
     "duration": 0.065233,
     "end_time": "2021-12-09T15:24:33.169218",
     "exception": false,
     "start_time": "2021-12-09T15:24:33.103985",
     "status": "completed"
    },
    "tags": []
   },
   "outputs": [],
   "source": [
    "# # Fit SVM with pol kernel\n",
    "# param_grid = {'C': [0.5,1,10,50,100], 'gamma': [0.1,0.01,0.001],'probability':[True],'kernel': ['poly'],'degree':[2,3] }\n",
    "# SVM_grid = GridSearchCV(SVC(), param_grid, cv=3, refit=True, verbose=0)\n",
    "# SVM_grid.fit(X_train, y_train)\n",
    "# best_model(SVM_grid)"
   ]
  },
  {
   "cell_type": "code",
   "execution_count": 40,
   "id": "82b04a68",
   "metadata": {
    "execution": {
     "iopub.execute_input": "2021-12-09T15:24:33.292250Z",
     "iopub.status.busy": "2021-12-09T15:24:33.291651Z",
     "iopub.status.idle": "2021-12-09T15:24:45.137510Z",
     "shell.execute_reply": "2021-12-09T15:24:45.137018Z",
     "shell.execute_reply.started": "2021-12-09T15:20:21.486323Z"
    },
    "papermill": {
     "duration": 11.908262,
     "end_time": "2021-12-09T15:24:45.137660",
     "exception": false,
     "start_time": "2021-12-09T15:24:33.229398",
     "status": "completed"
    },
    "tags": []
   },
   "outputs": [
    {
     "data": {
      "text/plain": [
       "SVC(C=100, degree=2, gamma=0.1, kernel='poly', probability=True)"
      ]
     },
     "execution_count": 40,
     "metadata": {},
     "output_type": "execute_result"
    }
   ],
   "source": [
    "# Fit SVM with Pol Kernel\n",
    "SVM_POL = SVC(C=100, cache_size=200, class_weight=None, coef0=0.0,  decision_function_shape='ovr', degree=2, gamma=0.1, kernel='poly',  max_iter=-1,\n",
    "              probability=True, random_state=None, shrinking=True, tol=0.001, verbose=False)\n",
    "SVM_POL.fit(X_train,y_train)"
   ]
  },
  {
   "cell_type": "markdown",
   "id": "05584222",
   "metadata": {
    "papermill": {
     "duration": 0.059534,
     "end_time": "2021-12-09T15:24:45.257003",
     "exception": false,
     "start_time": "2021-12-09T15:24:45.197469",
     "status": "completed"
    },
    "tags": []
   },
   "source": [
    "### 5. RF"
   ]
  },
  {
   "cell_type": "code",
   "execution_count": 41,
   "id": "fd6393fb",
   "metadata": {
    "execution": {
     "iopub.execute_input": "2021-12-09T15:24:45.380719Z",
     "iopub.status.busy": "2021-12-09T15:24:45.380057Z",
     "iopub.status.idle": "2021-12-09T15:24:45.383464Z",
     "shell.execute_reply": "2021-12-09T15:24:45.383936Z",
     "shell.execute_reply.started": "2021-12-09T14:25:46.757156Z"
    },
    "papermill": {
     "duration": 0.066849,
     "end_time": "2021-12-09T15:24:45.384115",
     "exception": false,
     "start_time": "2021-12-09T15:24:45.317266",
     "status": "completed"
    },
    "tags": []
   },
   "outputs": [],
   "source": [
    "# # Fit random forest classifier\n",
    "# param_grid = {'max_depth': [3, 5, 6, 7, 8], 'max_features': [2,4,6,7,8,9],'n_estimators':[50,100],'min_samples_split': [3, 5, 6, 7]}\n",
    "# RanFor_grid = GridSearchCV(RandomForestClassifier(), param_grid, cv=3, refit=True, verbose=0)\n",
    "# RanFor_grid.fit(X_train, y_train)\n",
    "# best_model(RanFor_grid)"
   ]
  },
  {
   "cell_type": "code",
   "execution_count": 42,
   "id": "000a097e",
   "metadata": {
    "execution": {
     "iopub.execute_input": "2021-12-09T15:24:45.507028Z",
     "iopub.status.busy": "2021-12-09T15:24:45.506422Z",
     "iopub.status.idle": "2021-12-09T15:24:46.986425Z",
     "shell.execute_reply": "2021-12-09T15:24:46.985758Z",
     "shell.execute_reply.started": "2021-12-09T15:20:33.228439Z"
    },
    "papermill": {
     "duration": 1.542055,
     "end_time": "2021-12-09T15:24:46.986571",
     "exception": false,
     "start_time": "2021-12-09T15:24:45.444516",
     "status": "completed"
    },
    "tags": []
   },
   "outputs": [
    {
     "data": {
      "text/plain": [
       "RandomForestClassifier(max_depth=8, max_features=7, min_samples_split=3)"
      ]
     },
     "execution_count": 42,
     "metadata": {},
     "output_type": "execute_result"
    }
   ],
   "source": [
    "# Fit Random Forest classifier\n",
    "RF = RandomForestClassifier(bootstrap=True, class_weight=None, criterion='gini',max_depth=8, max_features=7, max_leaf_nodes=None,min_impurity_decrease=0.0,\n",
    "                            min_impurity_split=None,min_samples_leaf=1, min_samples_split=3,min_weight_fraction_leaf=0.0, n_estimators=100, n_jobs=None,\n",
    "                            oob_score=False, random_state=None, verbose=0,warm_start=False)\n",
    "RF.fit(X_train,y_train)"
   ]
  },
  {
   "cell_type": "markdown",
   "id": "d8e4b652",
   "metadata": {
    "papermill": {
     "duration": 0.061005,
     "end_time": "2021-12-09T15:24:47.107799",
     "exception": false,
     "start_time": "2021-12-09T15:24:47.046794",
     "status": "completed"
    },
    "tags": []
   },
   "source": [
    "### 6. XGBoost"
   ]
  },
  {
   "cell_type": "code",
   "execution_count": 43,
   "id": "657bd309",
   "metadata": {
    "execution": {
     "iopub.execute_input": "2021-12-09T15:24:47.232789Z",
     "iopub.status.busy": "2021-12-09T15:24:47.232123Z",
     "iopub.status.idle": "2021-12-09T15:24:47.233621Z",
     "shell.execute_reply": "2021-12-09T15:24:47.234133Z",
     "shell.execute_reply.started": "2021-12-09T14:25:46.758627Z"
    },
    "papermill": {
     "duration": 0.066063,
     "end_time": "2021-12-09T15:24:47.234318",
     "exception": false,
     "start_time": "2021-12-09T15:24:47.168255",
     "status": "completed"
    },
    "tags": []
   },
   "outputs": [],
   "source": [
    "# # Fit Extreme Gradient boosting classifier\n",
    "# param_grid = {'max_depth': [5,6,7,8], 'gamma': [0.01,0.001,0.001],'min_child_weight':[1,5,10], 'learning_rate': [0.05,0.1, 0.2, 0.3], 'n_estimators':[5,10,20,100]}\n",
    "# xgb_grid = GridSearchCV(XGBClassifier(), param_grid, cv=3, refit=True, verbose=0)\n",
    "# xgb_grid.fit(X_train, y_train)\n",
    "# best_model(xgb_grid)"
   ]
  },
  {
   "cell_type": "code",
   "execution_count": 44,
   "id": "da298672",
   "metadata": {
    "execution": {
     "iopub.execute_input": "2021-12-09T15:24:47.361499Z",
     "iopub.status.busy": "2021-12-09T15:24:47.358218Z",
     "iopub.status.idle": "2021-12-09T15:24:48.658026Z",
     "shell.execute_reply": "2021-12-09T15:24:48.658476Z",
     "shell.execute_reply.started": "2021-12-09T15:20:34.735038Z"
    },
    "papermill": {
     "duration": 1.362763,
     "end_time": "2021-12-09T15:24:48.658653",
     "exception": false,
     "start_time": "2021-12-09T15:24:47.295890",
     "status": "completed"
    },
    "tags": []
   },
   "outputs": [
    {
     "name": "stdout",
     "output_type": "stream",
     "text": [
      "[15:24:47] WARNING: ../src/learner.cc:1115: Starting in XGBoost 1.3.0, the default evaluation metric used with the objective 'binary:logistic' was changed from 'error' to 'logloss'. Explicitly set eval_metric if you'd like to restore the old behavior.\n"
     ]
    },
    {
     "data": {
      "text/plain": [
       "XGBClassifier(base_score=0.5, booster='gbtree', colsample_bylevel=1,\n",
       "              colsample_bynode=1, colsample_bytree=1, enable_categorical=False,\n",
       "              gamma=0.01, gpu_id=-1, importance_type=None,\n",
       "              interaction_constraints='', learning_rate=0.1, max_delta_step=0,\n",
       "              max_depth=5, min_child_weight=1, missing=nan,\n",
       "              monotone_constraints='()', n_estimators=100, n_jobs=1, nthread=1,\n",
       "              num_parallel_tree=1, predictor='auto', random_state=0,\n",
       "              reg_alpha=0, reg_lambda=1, scale_pos_weight=1, seed=0,\n",
       "              subsample=1, tree_method='exact', use_label_encoder=False,\n",
       "              validate_parameters=1, ...)"
      ]
     },
     "execution_count": 44,
     "metadata": {},
     "output_type": "execute_result"
    }
   ],
   "source": [
    "# Fit Extreme Gradient Boost Classifier\n",
    "XGB = XGBClassifier(base_score=0.5, booster='gbtree', colsample_bylevel=1,colsample_bytree=1, gamma=0.01, learning_rate=0.1, max_delta_step=0,max_depth=5,\n",
    "                    min_child_weight=1, n_estimators=100,n_jobs=1, nthread=None, objective='binary:logistic', random_state=0,reg_alpha=0, \n",
    "                    reg_lambda=1, scale_pos_weight=1, seed=None,  subsample=1, use_label_encoder =False)\n",
    "XGB.fit(X_train,y_train)"
   ]
  },
  {
   "cell_type": "code",
   "execution_count": 45,
   "id": "101341f6",
   "metadata": {
    "execution": {
     "iopub.execute_input": "2021-12-09T15:24:48.785607Z",
     "iopub.status.busy": "2021-12-09T15:24:48.784636Z",
     "iopub.status.idle": "2021-12-09T15:24:50.216413Z",
     "shell.execute_reply": "2021-12-09T15:24:50.215469Z",
     "shell.execute_reply.started": "2021-12-09T15:20:36.009563Z"
    },
    "papermill": {
     "duration": 1.496661,
     "end_time": "2021-12-09T15:24:50.216617",
     "exception": false,
     "start_time": "2021-12-09T15:24:48.719956",
     "status": "completed"
    },
    "tags": []
   },
   "outputs": [
    {
     "name": "stdout",
     "output_type": "stream",
     "text": [
      "Normal logistic regression               precision    recall  f1-score   support\n",
      "\n",
      "           0       0.83      0.97      0.89      6370\n",
      "           1       0.65      0.22      0.33      1630\n",
      "\n",
      "    accuracy                           0.82      8000\n",
      "   macro avg       0.74      0.59      0.61      8000\n",
      "weighted avg       0.79      0.82      0.78      8000\n",
      "\n",
      "2Poly kernel logistic regression               precision    recall  f1-score   support\n",
      "\n",
      "           0       0.87      0.97      0.92      6370\n",
      "           1       0.78      0.45      0.57      1630\n",
      "\n",
      "    accuracy                           0.86      8000\n",
      "   macro avg       0.83      0.71      0.75      8000\n",
      "weighted avg       0.85      0.86      0.85      8000\n",
      "\n",
      "SVM RBF Kernel               precision    recall  f1-score   support\n",
      "\n",
      "           0       0.86      0.98      0.92      6370\n",
      "           1       0.83      0.40      0.54      1630\n",
      "\n",
      "    accuracy                           0.86      8000\n",
      "   macro avg       0.85      0.69      0.73      8000\n",
      "weighted avg       0.86      0.86      0.84      8000\n",
      "\n",
      "SVM with polynomial kernel               precision    recall  f1-score   support\n",
      "\n",
      "           0       0.86      0.98      0.92      6370\n",
      "           1       0.83      0.37      0.51      1630\n",
      "\n",
      "    accuracy                           0.86      8000\n",
      "   macro avg       0.85      0.67      0.71      8000\n",
      "weighted avg       0.85      0.86      0.83      8000\n",
      "\n",
      "Random Forest Classifier               precision    recall  f1-score   support\n",
      "\n",
      "           0       0.88      0.98      0.93      6370\n",
      "           1       0.88      0.50      0.64      1630\n",
      "\n",
      "    accuracy                           0.88      8000\n",
      "   macro avg       0.88      0.74      0.78      8000\n",
      "weighted avg       0.88      0.88      0.87      8000\n",
      "\n",
      "XG Boost               precision    recall  f1-score   support\n",
      "\n",
      "           0       0.89      0.98      0.93      6370\n",
      "           1       0.86      0.55      0.67      1630\n",
      "\n",
      "    accuracy                           0.89      8000\n",
      "   macro avg       0.88      0.76      0.80      8000\n",
      "weighted avg       0.89      0.89      0.88      8000\n",
      "\n"
     ]
    }
   ],
   "source": [
    "#Getting the best model among these classifers\n",
    "\n",
    "print(\"Normal logistic regression\", classification_report(y_train, log_primal.predict(X_train)))\n",
    "print(\"2Poly kernel logistic regression\", classification_report(y_train,  log_pol2.predict(df_train_pol2)))\n",
    "print(\"SVM RBF Kernel\", classification_report(y_train,  SVM_RBF.predict(X_train)))\n",
    "print(\"SVM with polynomial kernel\" ,classification_report(y_train,  SVM_POL.predict(X_train)))\n",
    "print(\"Random Forest Classifier\", classification_report(y_train,  RF.predict(X_train)))\n",
    "print(\"XG Boost\", classification_report(y_train,  XGB.predict(X_train)))"
   ]
  },
  {
   "cell_type": "markdown",
   "id": "540e3194",
   "metadata": {
    "execution": {
     "iopub.execute_input": "2021-12-09T12:03:49.940903Z",
     "iopub.status.busy": "2021-12-09T12:03:49.939832Z",
     "iopub.status.idle": "2021-12-09T12:03:49.944778Z",
     "shell.execute_reply": "2021-12-09T12:03:49.944040Z",
     "shell.execute_reply.started": "2021-12-09T12:03:49.940836Z"
    },
    "papermill": {
     "duration": 0.063678,
     "end_time": "2021-12-09T15:24:50.343736",
     "exception": false,
     "start_time": "2021-12-09T15:24:50.280058",
     "status": "completed"
    },
    "tags": []
   },
   "source": [
    "##### As can be seen from the metrics above, XGBoost Classifier works the best for our case. Thus, a better strategy would be to further improvise on the output of XGBoost"
   ]
  },
  {
   "cell_type": "code",
   "execution_count": 46,
   "id": "b99418e4",
   "metadata": {
    "execution": {
     "iopub.execute_input": "2021-12-09T15:24:50.472808Z",
     "iopub.status.busy": "2021-12-09T15:24:50.472140Z",
     "iopub.status.idle": "2021-12-09T15:24:50.925687Z",
     "shell.execute_reply": "2021-12-09T15:24:50.926091Z",
     "shell.execute_reply.started": "2021-12-09T15:20:44.600000Z"
    },
    "papermill": {
     "duration": 0.518288,
     "end_time": "2021-12-09T15:24:50.926275",
     "exception": false,
     "start_time": "2021-12-09T15:24:50.407987",
     "status": "completed"
    },
    "tags": []
   },
   "outputs": [
    {
     "name": "stdout",
     "output_type": "stream",
     "text": [
      "Normal logistic regression               precision    recall  f1-score   support\n",
      "\n",
      "           0       0.83      0.97      0.89      1593\n",
      "           1       0.65      0.23      0.34       407\n",
      "\n",
      "    accuracy                           0.82      2000\n",
      "   macro avg       0.74      0.60      0.62      2000\n",
      "weighted avg       0.80      0.82      0.78      2000\n",
      "\n",
      "2Poly kernel logistic regression               precision    recall  f1-score   support\n",
      "\n",
      "           0       0.87      0.97      0.92      1593\n",
      "           1       0.76      0.44      0.56       407\n",
      "\n",
      "    accuracy                           0.86      2000\n",
      "   macro avg       0.82      0.70      0.74      2000\n",
      "weighted avg       0.85      0.86      0.84      2000\n",
      "\n",
      "SVM RBF Kernel               precision    recall  f1-score   support\n",
      "\n",
      "           0       0.86      0.98      0.91      1593\n",
      "           1       0.80      0.38      0.51       407\n",
      "\n",
      "    accuracy                           0.85      2000\n",
      "   macro avg       0.83      0.68      0.71      2000\n",
      "weighted avg       0.85      0.85      0.83      2000\n",
      "\n",
      "SVM with polynomial kernel               precision    recall  f1-score   support\n",
      "\n",
      "           0       0.86      0.98      0.92      1593\n",
      "           1       0.85      0.38      0.52       407\n",
      "\n",
      "    accuracy                           0.86      2000\n",
      "   macro avg       0.86      0.68      0.72      2000\n",
      "weighted avg       0.86      0.86      0.84      2000\n",
      "\n",
      "Random Forest Classifier               precision    recall  f1-score   support\n",
      "\n",
      "           0       0.87      0.97      0.92      1593\n",
      "           1       0.82      0.44      0.57       407\n",
      "\n",
      "    accuracy                           0.87      2000\n",
      "   macro avg       0.85      0.71      0.75      2000\n",
      "weighted avg       0.86      0.87      0.85      2000\n",
      "\n",
      "XG Boost               precision    recall  f1-score   support\n",
      "\n",
      "           0       0.88      0.97      0.92      1593\n",
      "           1       0.78      0.48      0.59       407\n",
      "\n",
      "    accuracy                           0.87      2000\n",
      "   macro avg       0.83      0.72      0.76      2000\n",
      "weighted avg       0.86      0.87      0.85      2000\n",
      "\n"
     ]
    }
   ],
   "source": [
    "#Test Data performance\n",
    "\n",
    "print(\"Normal logistic regression\", classification_report(y_test, log_primal.predict(X_test)))\n",
    "print(\"2Poly kernel logistic regression\", classification_report(y_test,  log_pol2.predict(poly2.fit_transform(X_test))))\n",
    "print(\"SVM RBF Kernel\", classification_report(y_test,  SVM_RBF.predict(X_test)))\n",
    "print(\"SVM with polynomial kernel\" ,classification_report(y_test,  SVM_POL.predict(X_test)))\n",
    "print(\"Random Forest Classifier\", classification_report(y_test,  RF.predict(X_test)))\n",
    "print(\"XG Boost\", classification_report(y_test,  XGB.predict(X_test)))"
   ]
  },
  {
   "cell_type": "markdown",
   "id": "b898ab2b",
   "metadata": {
    "papermill": {
     "duration": 0.062333,
     "end_time": "2021-12-09T15:24:51.051400",
     "exception": false,
     "start_time": "2021-12-09T15:24:50.989067",
     "status": "completed"
    },
    "tags": []
   },
   "source": [
    "## Part2: Balancing the dataset"
   ]
  },
  {
   "cell_type": "markdown",
   "id": "fe4731d7",
   "metadata": {
    "papermill": {
     "duration": 0.064256,
     "end_time": "2021-12-09T15:24:51.178648",
     "exception": false,
     "start_time": "2021-12-09T15:24:51.114392",
     "status": "completed"
    },
    "tags": []
   },
   "source": [
    "#### Removing the imbalance of our dataset by SMOTE oversampling technique"
   ]
  },
  {
   "cell_type": "code",
   "execution_count": 47,
   "id": "f6005797",
   "metadata": {
    "execution": {
     "iopub.execute_input": "2021-12-09T15:24:51.305938Z",
     "iopub.status.busy": "2021-12-09T15:24:51.305264Z",
     "iopub.status.idle": "2021-12-09T15:24:51.515813Z",
     "shell.execute_reply": "2021-12-09T15:24:51.515342Z",
     "shell.execute_reply.started": "2021-12-09T15:20:49.974314Z"
    },
    "papermill": {
     "duration": 0.275321,
     "end_time": "2021-12-09T15:24:51.515953",
     "exception": false,
     "start_time": "2021-12-09T15:24:51.240632",
     "status": "completed"
    },
    "tags": []
   },
   "outputs": [
    {
     "data": {
      "text/plain": [
       "1    7963\n",
       "0    7963\n",
       "Name: Exited, dtype: int64"
      ]
     },
     "execution_count": 47,
     "metadata": {},
     "output_type": "execute_result"
    }
   ],
   "source": [
    "from imblearn.over_sampling import SMOTE\n",
    "\n",
    "smote = SMOTE(sampling_strategy='minority')\n",
    "X_sm, y_sm = smote.fit_resample(X, y)\n",
    "\n",
    "y_sm.value_counts()"
   ]
  },
  {
   "cell_type": "code",
   "execution_count": 48,
   "id": "857d24c5",
   "metadata": {
    "execution": {
     "iopub.execute_input": "2021-12-09T15:24:51.647174Z",
     "iopub.status.busy": "2021-12-09T15:24:51.646545Z",
     "iopub.status.idle": "2021-12-09T15:24:51.658333Z",
     "shell.execute_reply": "2021-12-09T15:24:51.658886Z",
     "shell.execute_reply.started": "2021-12-09T15:20:52.679050Z"
    },
    "papermill": {
     "duration": 0.080988,
     "end_time": "2021-12-09T15:24:51.659064",
     "exception": false,
     "start_time": "2021-12-09T15:24:51.578076",
     "status": "completed"
    },
    "tags": []
   },
   "outputs": [],
   "source": [
    "#Now, that we have same number of datalabels in category X and y\n",
    "\n",
    "X_trainS, X_testS, y_trainS, y_testS = train_test_split(X_sm, y_sm, test_size=0.2, random_state=15, stratify=y_sm)"
   ]
  },
  {
   "cell_type": "code",
   "execution_count": 49,
   "id": "35b8dbdc",
   "metadata": {
    "execution": {
     "iopub.execute_input": "2021-12-09T15:24:51.789209Z",
     "iopub.status.busy": "2021-12-09T15:24:51.788165Z",
     "iopub.status.idle": "2021-12-09T15:24:51.795486Z",
     "shell.execute_reply": "2021-12-09T15:24:51.796003Z",
     "shell.execute_reply.started": "2021-12-09T15:20:55.175314Z"
    },
    "papermill": {
     "duration": 0.074922,
     "end_time": "2021-12-09T15:24:51.796185",
     "exception": false,
     "start_time": "2021-12-09T15:24:51.721263",
     "status": "completed"
    },
    "tags": []
   },
   "outputs": [
    {
     "data": {
      "text/plain": [
       "0    6370\n",
       "1    6370\n",
       "Name: Exited, dtype: int64"
      ]
     },
     "execution_count": 49,
     "metadata": {},
     "output_type": "execute_result"
    }
   ],
   "source": [
    "y_trainS.value_counts()"
   ]
  },
  {
   "cell_type": "code",
   "execution_count": 50,
   "id": "9259a3ef",
   "metadata": {
    "execution": {
     "iopub.execute_input": "2021-12-09T15:24:51.928256Z",
     "iopub.status.busy": "2021-12-09T15:24:51.927179Z",
     "iopub.status.idle": "2021-12-09T15:24:51.930899Z",
     "shell.execute_reply": "2021-12-09T15:24:51.931467Z",
     "shell.execute_reply.started": "2021-12-09T14:45:08.224514Z"
    },
    "papermill": {
     "duration": 0.071747,
     "end_time": "2021-12-09T15:24:51.931658",
     "exception": false,
     "start_time": "2021-12-09T15:24:51.859911",
     "status": "completed"
    },
    "tags": []
   },
   "outputs": [],
   "source": [
    "import warnings\n",
    "warnings.filterwarnings(\"ignore\")"
   ]
  },
  {
   "cell_type": "code",
   "execution_count": 51,
   "id": "11035ddf",
   "metadata": {
    "execution": {
     "iopub.execute_input": "2021-12-09T15:24:52.063853Z",
     "iopub.status.busy": "2021-12-09T15:24:52.062856Z",
     "iopub.status.idle": "2021-12-09T15:24:52.065655Z",
     "shell.execute_reply": "2021-12-09T15:24:52.065033Z",
     "shell.execute_reply.started": "2021-12-09T14:48:15.064469Z"
    },
    "papermill": {
     "duration": 0.071291,
     "end_time": "2021-12-09T15:24:52.065809",
     "exception": false,
     "start_time": "2021-12-09T15:24:51.994518",
     "status": "completed"
    },
    "tags": []
   },
   "outputs": [],
   "source": [
    "#Grid_CV on the balanced data for XGBoost\n",
    "\n",
    "# param_grid = {'max_depth': [5,6,7,8], 'gamma': [0.01,0.001,0.001],'min_child_weight':[1,5,10], 'learning_rate': [0.05,0.1, 0.2, 0.3], 'n_estimators':[5,10,20,100]}\n",
    "# xgb_grid = GridSearchCV(XGBClassifier(use_label_encoder=False), param_grid, cv=3, refit=True, verbose=0)\n",
    "# xgb_grid.fit(X_train, y_train)\n",
    "# best_model(xgb_grid)"
   ]
  },
  {
   "cell_type": "code",
   "execution_count": 52,
   "id": "4144887d",
   "metadata": {
    "execution": {
     "iopub.execute_input": "2021-12-09T15:24:52.195940Z",
     "iopub.status.busy": "2021-12-09T15:24:52.194981Z",
     "iopub.status.idle": "2021-12-09T15:24:55.220552Z",
     "shell.execute_reply": "2021-12-09T15:24:55.221011Z",
     "shell.execute_reply.started": "2021-12-09T15:21:04.828964Z"
    },
    "papermill": {
     "duration": 3.092232,
     "end_time": "2021-12-09T15:24:55.221178",
     "exception": false,
     "start_time": "2021-12-09T15:24:52.128946",
     "status": "completed"
    },
    "tags": []
   },
   "outputs": [
    {
     "name": "stdout",
     "output_type": "stream",
     "text": [
      "[15:24:52] WARNING: ../src/learner.cc:1115: Starting in XGBoost 1.3.0, the default evaluation metric used with the objective 'binary:logistic' was changed from 'error' to 'logloss'. Explicitly set eval_metric if you'd like to restore the old behavior.\n"
     ]
    },
    {
     "data": {
      "text/plain": [
       "XGBClassifier(base_score=0.5, booster='gbtree', colsample_bylevel=1,\n",
       "              colsample_bynode=1, colsample_bytree=1, enable_categorical=False,\n",
       "              gamma=0.01, gpu_id=-1, importance_type=None,\n",
       "              interaction_constraints='', learning_rate=0.2, max_delta_step=0,\n",
       "              max_depth=7, min_child_weight=1, missing=nan,\n",
       "              monotone_constraints='()', n_estimators=100, n_jobs=1, nthread=1,\n",
       "              num_parallel_tree=1, predictor='auto', random_state=0,\n",
       "              reg_alpha=0, reg_lambda=1, scale_pos_weight=1, seed=0,\n",
       "              subsample=1, tree_method='exact', use_label_encoder=False,\n",
       "              validate_parameters=1, ...)"
      ]
     },
     "execution_count": 52,
     "metadata": {},
     "output_type": "execute_result"
    }
   ],
   "source": [
    "#Refitting the XGB classifier\n",
    "\n",
    "XGB2 = XGBClassifier(base_score=0.5, booster='gbtree', colsample_bylevel=1,colsample_bytree=1, gamma=0.01, learning_rate=0.2, max_delta_step=0,max_depth=7,\n",
    "                    min_child_weight=1, n_estimators=100,n_jobs=1, nthread=None, objective='binary:logistic', random_state=0,reg_alpha=0, \n",
    "                    reg_lambda=1, scale_pos_weight=1, seed=None,  subsample=1, use_label_encoder=False)\n",
    "XGB2.fit(X_trainS,y_trainS)"
   ]
  },
  {
   "cell_type": "code",
   "execution_count": 53,
   "id": "4691ba15",
   "metadata": {
    "execution": {
     "iopub.execute_input": "2021-12-09T15:24:55.351174Z",
     "iopub.status.busy": "2021-12-09T15:24:55.348424Z",
     "iopub.status.idle": "2021-12-09T15:24:55.398109Z",
     "shell.execute_reply": "2021-12-09T15:24:55.397444Z",
     "shell.execute_reply.started": "2021-12-09T14:48:23.018402Z"
    },
    "papermill": {
     "duration": 0.114561,
     "end_time": "2021-12-09T15:24:55.398261",
     "exception": false,
     "start_time": "2021-12-09T15:24:55.283700",
     "status": "completed"
    },
    "tags": []
   },
   "outputs": [
    {
     "name": "stdout",
     "output_type": "stream",
     "text": [
      "              precision    recall  f1-score   support\n",
      "\n",
      "           0       0.94      0.97      0.96      6370\n",
      "           1       0.88      0.76      0.82      1630\n",
      "\n",
      "    accuracy                           0.93      8000\n",
      "   macro avg       0.91      0.87      0.89      8000\n",
      "weighted avg       0.93      0.93      0.93      8000\n",
      "\n"
     ]
    }
   ],
   "source": [
    "#get the classification report for the training dataset\n",
    "\n",
    "print(classification_report(y_train,  XGB2.predict(X_train)))"
   ]
  },
  {
   "cell_type": "code",
   "execution_count": 54,
   "id": "da02c1bf",
   "metadata": {
    "execution": {
     "iopub.execute_input": "2021-12-09T15:24:55.531993Z",
     "iopub.status.busy": "2021-12-09T15:24:55.530250Z",
     "iopub.status.idle": "2021-12-09T15:24:55.557612Z",
     "shell.execute_reply": "2021-12-09T15:24:55.557005Z",
     "shell.execute_reply.started": "2021-12-09T15:21:49.269613Z"
    },
    "papermill": {
     "duration": 0.0951,
     "end_time": "2021-12-09T15:24:55.557754",
     "exception": false,
     "start_time": "2021-12-09T15:24:55.462654",
     "status": "completed"
    },
    "tags": []
   },
   "outputs": [
    {
     "name": "stdout",
     "output_type": "stream",
     "text": [
      "              precision    recall  f1-score   support\n",
      "\n",
      "           0       0.89      0.93      0.91      1593\n",
      "           1       0.93      0.88      0.90      1593\n",
      "\n",
      "    accuracy                           0.91      3186\n",
      "   macro avg       0.91      0.91      0.91      3186\n",
      "weighted avg       0.91      0.91      0.91      3186\n",
      "\n"
     ]
    }
   ],
   "source": [
    "#get the classification report for the training dataset\n",
    "\n",
    "print(classification_report(y_testS,  XGB2.predict(X_testS)))"
   ]
  },
  {
   "cell_type": "markdown",
   "id": "36eb9daa",
   "metadata": {
    "papermill": {
     "duration": 0.065326,
     "end_time": "2021-12-09T15:24:55.687212",
     "exception": false,
     "start_time": "2021-12-09T15:24:55.621886",
     "status": "completed"
    },
    "tags": []
   },
   "source": [
    "#### Precision and Recall values on the original test_data"
   ]
  },
  {
   "cell_type": "code",
   "execution_count": 55,
   "id": "1165bd38",
   "metadata": {
    "execution": {
     "iopub.execute_input": "2021-12-09T15:24:55.820933Z",
     "iopub.status.busy": "2021-12-09T15:24:55.820204Z",
     "iopub.status.idle": "2021-12-09T15:24:55.843215Z",
     "shell.execute_reply": "2021-12-09T15:24:55.842624Z",
     "shell.execute_reply.started": "2021-12-09T15:22:35.198829Z"
    },
    "papermill": {
     "duration": 0.090574,
     "end_time": "2021-12-09T15:24:55.843398",
     "exception": false,
     "start_time": "2021-12-09T15:24:55.752824",
     "status": "completed"
    },
    "tags": []
   },
   "outputs": [
    {
     "name": "stdout",
     "output_type": "stream",
     "text": [
      "              precision    recall  f1-score   support\n",
      "\n",
      "           0       0.95      0.97      0.96      1593\n",
      "           1       0.88      0.79      0.84       407\n",
      "\n",
      "    accuracy                           0.94      2000\n",
      "   macro avg       0.92      0.88      0.90      2000\n",
      "weighted avg       0.94      0.94      0.94      2000\n",
      "\n"
     ]
    }
   ],
   "source": [
    "#getting the classification report for test dataset\n",
    "\n",
    "print(classification_report(y_test,  XGB2.predict(X_test)))"
   ]
  },
  {
   "cell_type": "code",
   "execution_count": 56,
   "id": "efb8ce6c",
   "metadata": {
    "execution": {
     "iopub.execute_input": "2021-12-09T15:24:55.976427Z",
     "iopub.status.busy": "2021-12-09T15:24:55.975757Z",
     "iopub.status.idle": "2021-12-09T15:24:55.977646Z",
     "shell.execute_reply": "2021-12-09T15:24:55.978086Z",
     "shell.execute_reply.started": "2021-12-09T12:25:53.831310Z"
    },
    "papermill": {
     "duration": 0.069605,
     "end_time": "2021-12-09T15:24:55.978252",
     "exception": false,
     "start_time": "2021-12-09T15:24:55.908647",
     "status": "completed"
    },
    "tags": []
   },
   "outputs": [],
   "source": [
    "### Dumping model weights for pickl file\n",
    "\n",
    "# import joblib \n",
    "\n",
    "# XBG_classifier = XGBClassifier(base_score=0.5, booster='gbtree', colsample_bylevel=1,colsample_bytree=1, gamma=0.01, learning_rate=0.2, max_delta_step=0,max_depth=7,\n",
    "#                     min_child_weight=1, missing=None, n_estimators=100,n_jobs=1, nthread=None, objective='binary:logistic', random_state=0,reg_alpha=0, \n",
    "#                     reg_lambda=1, scale_pos_weight=1, seed=None,  subsample=1)\n",
    "\n",
    "\n",
    "# Save the model as a pickle in a file \n",
    "# joblib.dump(XBG_classifier, 'XGB_smote_churnclassifier.pkl') \n",
    "  \n",
    "# Load the model from the file \n",
    "# XGB_churn_classify = joblib.load('XGB_smote_churnclassifier.pkl')  \n",
    "  \n",
    "# Use the loaded model to make predictions \n",
    "# XGB_from_joblib.predict(X_test) "
   ]
  },
  {
   "cell_type": "code",
   "execution_count": null,
   "id": "2b2b804b",
   "metadata": {
    "papermill": {
     "duration": 0.063888,
     "end_time": "2021-12-09T15:24:56.106513",
     "exception": false,
     "start_time": "2021-12-09T15:24:56.042625",
     "status": "completed"
    },
    "tags": []
   },
   "outputs": [],
   "source": []
  },
  {
   "cell_type": "code",
   "execution_count": null,
   "id": "9c75c296",
   "metadata": {
    "papermill": {
     "duration": 0.063207,
     "end_time": "2021-12-09T15:24:56.233987",
     "exception": false,
     "start_time": "2021-12-09T15:24:56.170780",
     "status": "completed"
    },
    "tags": []
   },
   "outputs": [],
   "source": []
  }
 ],
 "metadata": {
  "kernelspec": {
   "display_name": "Python 3",
   "language": "python",
   "name": "python3"
  },
  "language_info": {
   "codemirror_mode": {
    "name": "ipython",
    "version": 3
   },
   "file_extension": ".py",
   "mimetype": "text/x-python",
   "name": "python",
   "nbconvert_exporter": "python",
   "pygments_lexer": "ipython3",
   "version": "3.7.12"
  },
  "papermill": {
   "default_parameters": {},
   "duration": 67.284036,
   "end_time": "2021-12-09T15:24:57.107221",
   "environment_variables": {},
   "exception": null,
   "input_path": "__notebook__.ipynb",
   "output_path": "__notebook__.ipynb",
   "parameters": {},
   "start_time": "2021-12-09T15:23:49.823185",
   "version": "2.3.3"
  }
 },
 "nbformat": 4,
 "nbformat_minor": 5
}
